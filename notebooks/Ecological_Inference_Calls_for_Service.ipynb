{
 "cells": [
  {
   "cell_type": "code",
   "execution_count": 1,
   "id": "0e972782-4272-4af6-b2f2-6d38a89d4b30",
   "metadata": {},
   "outputs": [
    {
     "name": "stderr",
     "output_type": "stream",
     "text": [
      "WARNING (aesara.tensor.blas): Using NumPy C-API based implementation for BLAS functions.\n",
      "/home/anna/anaconda3/envs/pp_env/lib/python3.10/site-packages/pymc/sampling_jax.py:36: UserWarning: This module is experimental.\n",
      "  warnings.warn(\"This module is experimental.\")\n"
     ]
    }
   ],
   "source": [
    "import pymc as pm\n",
    "import pandas as pd\n",
    "import numpy as np\n",
    "import sys\n",
    "sys.path.append('..')\n",
    "import pyei as pyei\n",
    "import matplotlib.pyplot as plt"
   ]
  },
  {
   "cell_type": "code",
   "execution_count": 7,
   "id": "afbaf338-1796-4cdc-82b9-65bbe8e6cb25",
   "metadata": {},
   "outputs": [
    {
     "data": {
      "text/html": [
       "<div>\n",
       "<style scoped>\n",
       "    .dataframe tbody tr th:only-of-type {\n",
       "        vertical-align: middle;\n",
       "    }\n",
       "\n",
       "    .dataframe tbody tr th {\n",
       "        vertical-align: top;\n",
       "    }\n",
       "\n",
       "    .dataframe thead th {\n",
       "        text-align: right;\n",
       "    }\n",
       "</style>\n",
       "<table border=\"1\" class=\"dataframe\">\n",
       "  <thead>\n",
       "    <tr style=\"text-align: right;\">\n",
       "      <th></th>\n",
       "      <th>pop</th>\n",
       "      <th>race_w</th>\n",
       "      <th>race_b</th>\n",
       "      <th>hhinc</th>\n",
       "      <th>incpercap</th>\n",
       "      <th>incpov_2_</th>\n",
       "      <th>incpov__2</th>\n",
       "      <th>init_count_pre</th>\n",
       "      <th>init_day_pre</th>\n",
       "      <th>tot_count_pre</th>\n",
       "      <th>tot_day_pre</th>\n",
       "      <th>init_p_pre</th>\n",
       "      <th>init_count_covid</th>\n",
       "      <th>init_day_covid</th>\n",
       "      <th>tot_count_covid</th>\n",
       "      <th>tot_day_covid</th>\n",
       "      <th>init_p_covid</th>\n",
       "    </tr>\n",
       "  </thead>\n",
       "  <tbody>\n",
       "    <tr>\n",
       "      <th>0</th>\n",
       "      <td>478</td>\n",
       "      <td>97.07</td>\n",
       "      <td>0.00</td>\n",
       "      <td>83667</td>\n",
       "      <td>73312</td>\n",
       "      <td>90.17</td>\n",
       "      <td>9.83</td>\n",
       "      <td>2815</td>\n",
       "      <td>7.019950</td>\n",
       "      <td>3889</td>\n",
       "      <td>9.698254</td>\n",
       "      <td>72.383646</td>\n",
       "      <td>482</td>\n",
       "      <td>2.190909</td>\n",
       "      <td>945</td>\n",
       "      <td>4.295455</td>\n",
       "      <td>51.005291</td>\n",
       "    </tr>\n",
       "    <tr>\n",
       "      <th>1</th>\n",
       "      <td>1212</td>\n",
       "      <td>85.23</td>\n",
       "      <td>4.04</td>\n",
       "      <td>77604</td>\n",
       "      <td>42620</td>\n",
       "      <td>77.56</td>\n",
       "      <td>22.44</td>\n",
       "      <td>2161</td>\n",
       "      <td>5.389027</td>\n",
       "      <td>3192</td>\n",
       "      <td>7.960100</td>\n",
       "      <td>67.700501</td>\n",
       "      <td>782</td>\n",
       "      <td>3.554545</td>\n",
       "      <td>1373</td>\n",
       "      <td>6.240909</td>\n",
       "      <td>56.955572</td>\n",
       "    </tr>\n",
       "    <tr>\n",
       "      <th>2</th>\n",
       "      <td>2109</td>\n",
       "      <td>71.12</td>\n",
       "      <td>7.02</td>\n",
       "      <td>105913</td>\n",
       "      <td>21587</td>\n",
       "      <td>89.16</td>\n",
       "      <td>10.84</td>\n",
       "      <td>1524</td>\n",
       "      <td>3.800499</td>\n",
       "      <td>1932</td>\n",
       "      <td>4.817955</td>\n",
       "      <td>78.881988</td>\n",
       "      <td>63</td>\n",
       "      <td>0.286364</td>\n",
       "      <td>231</td>\n",
       "      <td>1.050000</td>\n",
       "      <td>27.272727</td>\n",
       "    </tr>\n",
       "    <tr>\n",
       "      <th>3</th>\n",
       "      <td>676</td>\n",
       "      <td>83.14</td>\n",
       "      <td>0.00</td>\n",
       "      <td>66944</td>\n",
       "      <td>35319</td>\n",
       "      <td>68.20</td>\n",
       "      <td>31.80</td>\n",
       "      <td>174</td>\n",
       "      <td>0.433915</td>\n",
       "      <td>380</td>\n",
       "      <td>0.947631</td>\n",
       "      <td>45.789474</td>\n",
       "      <td>14</td>\n",
       "      <td>0.063636</td>\n",
       "      <td>79</td>\n",
       "      <td>0.359091</td>\n",
       "      <td>17.721519</td>\n",
       "    </tr>\n",
       "    <tr>\n",
       "      <th>4</th>\n",
       "      <td>1137</td>\n",
       "      <td>64.56</td>\n",
       "      <td>9.59</td>\n",
       "      <td>55167</td>\n",
       "      <td>14173</td>\n",
       "      <td>65.80</td>\n",
       "      <td>34.20</td>\n",
       "      <td>555</td>\n",
       "      <td>1.384040</td>\n",
       "      <td>961</td>\n",
       "      <td>2.396509</td>\n",
       "      <td>57.752341</td>\n",
       "      <td>12</td>\n",
       "      <td>0.054545</td>\n",
       "      <td>207</td>\n",
       "      <td>0.940909</td>\n",
       "      <td>5.797101</td>\n",
       "    </tr>\n",
       "    <tr>\n",
       "      <th>5</th>\n",
       "      <td>1044</td>\n",
       "      <td>81.80</td>\n",
       "      <td>4.69</td>\n",
       "      <td>116875</td>\n",
       "      <td>43521</td>\n",
       "      <td>82.38</td>\n",
       "      <td>17.62</td>\n",
       "      <td>1285</td>\n",
       "      <td>3.204489</td>\n",
       "      <td>1861</td>\n",
       "      <td>4.640898</td>\n",
       "      <td>69.048898</td>\n",
       "      <td>355</td>\n",
       "      <td>1.613636</td>\n",
       "      <td>628</td>\n",
       "      <td>2.854545</td>\n",
       "      <td>56.528662</td>\n",
       "    </tr>\n",
       "    <tr>\n",
       "      <th>6</th>\n",
       "      <td>858</td>\n",
       "      <td>92.66</td>\n",
       "      <td>2.45</td>\n",
       "      <td>81875</td>\n",
       "      <td>39540</td>\n",
       "      <td>85.05</td>\n",
       "      <td>14.95</td>\n",
       "      <td>2149</td>\n",
       "      <td>5.359102</td>\n",
       "      <td>2880</td>\n",
       "      <td>7.182045</td>\n",
       "      <td>74.618056</td>\n",
       "      <td>830</td>\n",
       "      <td>3.772727</td>\n",
       "      <td>1206</td>\n",
       "      <td>5.481818</td>\n",
       "      <td>68.822554</td>\n",
       "    </tr>\n",
       "  </tbody>\n",
       "</table>\n",
       "</div>"
      ],
      "text/plain": [
       "    pop  race_w  race_b   hhinc  incpercap  incpov_2_  incpov__2  \\\n",
       "0   478   97.07    0.00   83667      73312      90.17       9.83   \n",
       "1  1212   85.23    4.04   77604      42620      77.56      22.44   \n",
       "2  2109   71.12    7.02  105913      21587      89.16      10.84   \n",
       "3   676   83.14    0.00   66944      35319      68.20      31.80   \n",
       "4  1137   64.56    9.59   55167      14173      65.80      34.20   \n",
       "5  1044   81.80    4.69  116875      43521      82.38      17.62   \n",
       "6   858   92.66    2.45   81875      39540      85.05      14.95   \n",
       "\n",
       "   init_count_pre  init_day_pre  tot_count_pre  tot_day_pre  init_p_pre  \\\n",
       "0            2815      7.019950           3889     9.698254   72.383646   \n",
       "1            2161      5.389027           3192     7.960100   67.700501   \n",
       "2            1524      3.800499           1932     4.817955   78.881988   \n",
       "3             174      0.433915            380     0.947631   45.789474   \n",
       "4             555      1.384040            961     2.396509   57.752341   \n",
       "5            1285      3.204489           1861     4.640898   69.048898   \n",
       "6            2149      5.359102           2880     7.182045   74.618056   \n",
       "\n",
       "   init_count_covid  init_day_covid  tot_count_covid  tot_day_covid  \\\n",
       "0               482        2.190909              945       4.295455   \n",
       "1               782        3.554545             1373       6.240909   \n",
       "2                63        0.286364              231       1.050000   \n",
       "3                14        0.063636               79       0.359091   \n",
       "4                12        0.054545              207       0.940909   \n",
       "5               355        1.613636              628       2.854545   \n",
       "6               830        3.772727             1206       5.481818   \n",
       "\n",
       "   init_p_covid  \n",
       "0     51.005291  \n",
       "1     56.955572  \n",
       "2     27.272727  \n",
       "3     17.721519  \n",
       "4      5.797101  \n",
       "5     56.528662  \n",
       "6     68.822554  "
      ]
     },
     "execution_count": 7,
     "metadata": {},
     "output_type": "execute_result"
    }
   ],
   "source": [
    "# Example 2x2 data\n",
    "data = pd.read_csv(\"../data/demographics_with_race.csv\", index_col = 0)\n",
    "data"
   ]
  },
  {
   "cell_type": "markdown",
   "id": "6c9fb5d6",
   "metadata": {},
   "source": [
    "# The Regression Problem\n",
    "We propose to solve the following regression equation\n",
    "\n",
    "$$\n",
    "C_i = r_g \\cdot p_i \\cdot X_i + r_0 \\cdot p_i \\cdot (1-X_i)\n",
    "$$\n",
    "\n",
    "where $C_i$ is the number of calls for service in CBG$_i$, $p_i$ is the population of CBG$_i$, and $X_i$ is the proportion of residents from demographic group $g$ in CBG $i$. In this model, we are solving the for coefficients $r_g$, the _in-group rate of calls for service_ and $r_0$, the _out-group rate of calls for service_.  Before solving, we will normalize the equation as follows,\n",
    "\n",
    "$$\n",
    "\\frac{C_i}{p_i\\cdot m} =  \\frac{r_g}{m} \\cdot X_i + \\frac{r_0}{m} \\cdot (1-X_i)\n",
    "$$\n",
    "\n",
    "for a normalizing contstant $m$ defined below.  Then using the tools of PyEi we can solve \n",
    "\n",
    "$$\n",
    "Y_i = \\beta^g \\cdot X_i + \\beta^0 \\cdot (1- X_i)\n",
    "$$\n",
    "in the usual way, where \n",
    "\n",
    "\\begin{eqnarray*}\n",
    "Y_i =  \\frac{C_i}{p_i\\cdot m}\\,\\,\\,\\text{ and }\\,\\,\\,\n",
    "\\beta^g & = & \\frac{r_g}{m}\\,\\,\\,\\text{ and }\\,\\,\\,\n",
    "\\beta^0 & = & \\frac{r_0}{m}.\n",
    "\\end{eqnarray*}\n"
   ]
  },
  {
   "cell_type": "code",
   "execution_count": 8,
   "id": "4340646b",
   "metadata": {},
   "outputs": [
    {
     "data": {
      "text/plain": [
       "array([1074, 1031,  408,  206,  406,  576,  731])"
      ]
     },
     "execution_count": 8,
     "metadata": {},
     "output_type": "execute_result"
    }
   ],
   "source": [
    "# Number of calls by CBG\n",
    "C = (np.array(data[\"tot_count_pre\"]) - np.array(data[\"init_count_pre\"])) \n",
    "C"
   ]
  },
  {
   "cell_type": "code",
   "execution_count": 9,
   "id": "33658ff9",
   "metadata": {},
   "outputs": [
    {
     "data": {
      "text/plain": [
       "array([ 478, 1212, 2109,  676, 1137, 1044,  858])"
      ]
     },
     "execution_count": 9,
     "metadata": {},
     "output_type": "execute_result"
    }
   ],
   "source": [
    "# Number of people by CBG\n",
    "p = data[\"pop\"].values\n",
    "p"
   ]
  },
  {
   "cell_type": "markdown",
   "id": "3ac0fd97-b29f-453c-92c0-35686ff4c50a",
   "metadata": {},
   "source": [
    "## Analysis by Race\n",
    "\n",
    "We will first example white and non-white citizen cohorts."
   ]
  },
  {
   "cell_type": "code",
   "execution_count": 10,
   "id": "d7646019",
   "metadata": {},
   "outputs": [
    {
     "data": {
      "text/plain": [
       "array([0.9707, 0.8523, 0.7112, 0.8314, 0.6456, 0.818 , 0.9266])"
      ]
     },
     "execution_count": 10,
     "metadata": {},
     "output_type": "execute_result"
    }
   ],
   "source": [
    "# Proportion of white residents by CBG.\n",
    "X_race = np.array((data[\"race_w\"]/100))\n",
    "X_race"
   ]
  },
  {
   "cell_type": "code",
   "execution_count": 11,
   "id": "607fdece",
   "metadata": {},
   "outputs": [
    {
     "data": {
      "text/plain": [
       "array([ 463.9946, 1032.9876, 1499.9208,  562.0264,  734.0472,  853.992 ,\n",
       "        795.0228])"
      ]
     },
     "execution_count": 11,
     "metadata": {},
     "output_type": "execute_result"
    }
   ],
   "source": [
    "# Number of white residents by CBG.\n",
    "num_white = X_race * data[\"pop\"].values\n",
    "num_white"
   ]
  },
  {
   "cell_type": "code",
   "execution_count": 12,
   "id": "773786cb",
   "metadata": {},
   "outputs": [
    {
     "data": {
      "text/plain": [
       "array([0.0293, 0.1477, 0.2888, 0.1686, 0.3544, 0.182 , 0.0734])"
      ]
     },
     "execution_count": 12,
     "metadata": {},
     "output_type": "execute_result"
    }
   ],
   "source": [
    "# Proportion of non-white residents by CBG.\n",
    "1-X_race"
   ]
  },
  {
   "cell_type": "code",
   "execution_count": 13,
   "id": "463d79b9",
   "metadata": {},
   "outputs": [
    {
     "data": {
      "text/plain": [
       "array([ 14.0054, 179.0124, 609.0792, 113.9736, 402.9528, 190.008 ,\n",
       "        62.9772])"
      ]
     },
     "execution_count": 13,
     "metadata": {},
     "output_type": "execute_result"
    }
   ],
   "source": [
    "# Number of non-white residents by CBG.\n",
    "num_non_white = (1-X_race)*data[\"pop\"].values\n",
    "num_non_white"
   ]
  },
  {
   "cell_type": "code",
   "execution_count": 14,
   "id": "3a9f78c8",
   "metadata": {},
   "outputs": [
    {
     "data": {
      "text/plain": [
       "76.68470732717353"
      ]
     },
     "execution_count": 14,
     "metadata": {},
     "output_type": "execute_result"
    }
   ],
   "source": [
    "# # Normalizing Constant\n",
    "max_calls = max(C)\n",
    "min_pop = min(np.concatenate([num_white, num_non_white]))\n",
    "m_race = max_calls / min_pop\n",
    "m_race"
   ]
  },
  {
   "cell_type": "code",
   "execution_count": 15,
   "id": "6ae456fa",
   "metadata": {},
   "outputs": [
    {
     "data": {
      "text/plain": [
       "array([0.0293    , 0.01109296, 0.00252275, 0.00397385, 0.00465647,\n",
       "       0.00719471, 0.01111019])"
      ]
     },
     "execution_count": 15,
     "metadata": {},
     "output_type": "execute_result"
    }
   ],
   "source": [
    "# Normalized call rate by CBG\n",
    "Y_race = (m_race ** -1) * np.array(C / data[\"pop\"])\n",
    "Y_race"
   ]
  },
  {
   "cell_type": "code",
   "execution_count": 16,
   "id": "2feb9b46",
   "metadata": {},
   "outputs": [
    {
     "data": {
      "text/plain": [
       "'white'"
      ]
     },
     "execution_count": 16,
     "metadata": {},
     "output_type": "execute_result"
    }
   ],
   "source": [
    "demographic_group_name = \"white\"\n",
    "demographic_group_name "
   ]
  },
  {
   "cell_type": "code",
   "execution_count": 17,
   "id": "ca26c777-0c2b-411c-b4c7-d1d27483fed7",
   "metadata": {},
   "outputs": [],
   "source": [
    "precinct_pops = np.array(data[\"pop\"])\n",
    "demographic_group_name = \"white\"\n",
    "candidate_name = \"Calls for Service\"\n",
    "precinct_names = list(data.index)"
   ]
  },
  {
   "cell_type": "code",
   "execution_count": 18,
   "id": "41833b51-4ee6-4681-b459-dedee3625bb2",
   "metadata": {},
   "outputs": [
    {
     "name": "stderr",
     "output_type": "stream",
     "text": [
      "/home/anna/anaconda3/envs/pp_env/lib/python3.10/site-packages/tqdm/auto.py:22: TqdmWarning: IProgress not found. Please update jupyter and ipywidgets. See https://ipywidgets.readthedocs.io/en/stable/user_install.html\n",
      "  from .autonotebook import tqdm as notebook_tqdm\n"
     ]
    },
    {
     "name": "stdout",
     "output_type": "stream",
     "text": [
      "Compiling...\n"
     ]
    },
    {
     "name": "stderr",
     "output_type": "stream",
     "text": [
      "/home/anna/anaconda3/envs/pp_env/lib/python3.10/site-packages/pymc/aesaraf.py:996: UserWarning: The parameter 'updates' of aesara.function() expects an OrderedDict, got <class 'dict'>. Using a standard dictionary here results in non-deterministic behavior. You should use an OrderedDict if you are using Python 2.7 (collections.OrderedDict for older python), or use a list of (shared, update) pairs. Do not just convert your dictionary to this type before the call as the conversion will still be non-deterministic.\n",
      "  aesara_function = aesara.function(\n"
     ]
    },
    {
     "name": "stdout",
     "output_type": "stream",
     "text": [
      "Compilation time =  0:00:26.564209\n",
      "Sampling...\n"
     ]
    },
    {
     "name": "stderr",
     "output_type": "stream",
     "text": [
      "Compiling.. :   0%|                                    | 0/4200 [00:00<?, ?it/s]\n",
      "  0%|                                                  | 0/4200 [00:00<?, ?it/s]\u001b[A\n",
      "Compiling.. :   0%|                                    | 0/4200 [00:00<?, ?it/s]\u001b[A\n",
      "\n",
      "  0%|                                                  | 0/4200 [00:00<?, ?it/s]\u001b[A\u001b[A\n",
      "\n",
      "Compiling.. :   0%|                                    | 0/4200 [00:00<?, ?it/s]\u001b[A\u001b[A\n",
      "\n",
      "\n",
      "  0%|                                                  | 0/4200 [00:00<?, ?it/s]\u001b[A\u001b[A\u001b[A\n",
      "\n",
      "\n",
      "Compiling.. :   0%|                                    | 0/4200 [00:00<?, ?it/s]\u001b[A\u001b[A\u001b[A\n",
      "Running chain 1:   0%|                                 | 0/4200 [00:04<?, ?it/s]\u001b[A\n",
      "\n",
      "Running chain 0:   0%|                                 | 0/4200 [00:04<?, ?it/s]\u001b[A\u001b[A\n",
      "\n",
      "\n",
      "Running chain 3:   0%|                                 | 0/4200 [00:04<?, ?it/s]\u001b[A\u001b[A\u001b[A\n",
      "\n",
      "\n",
      "Running chain 0:  10%|██                   | 420/4200 [00:04<00:01, 2883.56it/s]\u001b[A\u001b[A\u001b[A\n",
      "Running chain 1:  10%|██                   | 420/4200 [00:04<00:01, 2729.59it/s]\u001b[A\n",
      "\n",
      "Running chain 2:   5%|█                    | 210/4200 [00:04<00:03, 1294.08it/s]\u001b[A\u001b[A\n",
      "\n",
      "\n",
      "Running chain 0:  20%|████▏                | 840/4200 [00:05<00:01, 3169.63it/s]\u001b[A\u001b[A\u001b[A\n",
      "\n",
      "Running chain 2:  15%|███▏                 | 630/4200 [00:05<00:01, 2049.52it/s]\u001b[A\u001b[A\n",
      "Running chain 0:  30%|██████              | 1260/4200 [00:05<00:01, 2841.40it/s]\u001b[A\n",
      "\n",
      "\n",
      "Running chain 3:  30%|██████              | 1260/4200 [00:05<00:01, 2529.58it/s]\u001b[A\u001b[A\u001b[A\n",
      "\n",
      "Running chain 2:  25%|█████               | 1050/4200 [00:05<00:01, 2125.82it/s]\u001b[A\u001b[A\n",
      "Running chain 0:  40%|████████            | 1680/4200 [00:05<00:00, 2750.36it/s]\u001b[A\n",
      "\n",
      "\n",
      "Running chain 0:  50%|██████████          | 2100/4200 [00:05<00:00, 2821.96it/s]\u001b[A\u001b[A\u001b[A\n",
      "Running chain 1:  30%|██████              | 1260/4200 [00:05<00:02, 1421.31it/s]\u001b[A\n",
      "\n",
      "Running chain 2:  35%|███████             | 1470/4200 [00:05<00:01, 1897.16it/s]\u001b[A\u001b[A\n",
      "\n",
      "\n",
      "Running chain 0:  60%|████████████        | 2520/4200 [00:05<00:00, 2758.95it/s]\u001b[A\u001b[A\u001b[A\n",
      "\n",
      "Running chain 2:  45%|█████████           | 1890/4200 [00:05<00:01, 2013.12it/s]\u001b[A\u001b[A\n",
      "\n",
      "\n",
      "Running chain 0:  70%|██████████████      | 2940/4200 [00:05<00:00, 2827.73it/s]\u001b[A\u001b[A\u001b[A\n",
      "Running chain 1:  35%|███████             | 1470/4200 [00:05<00:02, 1066.85it/s]\u001b[A\n",
      "\n",
      "Running chain 2:  50%|██████████          | 2100/4200 [00:05<00:01, 1980.70it/s]\u001b[A\u001b[A\n",
      "\n",
      "\n",
      "Running chain 0:  80%|████████████████    | 3360/4200 [00:06<00:00, 2722.90it/s]\u001b[A\u001b[A\u001b[A\n",
      "\n",
      "Running chain 2:  60%|████████████        | 2520/4200 [00:06<00:00, 2068.54it/s]\u001b[A\u001b[A\n",
      "\n",
      "\n",
      "Running chain 0:  90%|██████████████████  | 3780/4200 [00:06<00:00, 2460.47it/s]\u001b[A\u001b[A\u001b[A\n",
      "\n",
      "Running chain 2:  70%|██████████████      | 2940/4200 [00:06<00:00, 2208.43it/s]\u001b[A\u001b[A\n",
      "Running chain 1:  40%|████████▍            | 1680/4200 [00:06<00:03, 801.95it/s]\u001b[A\n",
      "\n",
      "\n",
      "Running chain 0: 100%|████████████████████| 4200/4200 [00:06<00:00, 2298.27it/s]\u001b[A\u001b[A\u001b[A\n",
      "\n",
      "Running chain 2:  80%|████████████████    | 3360/4200 [00:06<00:00, 2095.96it/s]\u001b[A\u001b[A\n",
      "\n",
      "Running chain 2:  85%|█████████████████   | 3570/4200 [00:06<00:00, 1921.65it/s]\u001b[A\u001b[A\n",
      "\n",
      "\n",
      "Running chain 3: 100%|████████████████████| 4200/4200 [00:06<00:00, 2023.09it/s]\u001b[A\u001b[A\u001b[A\n",
      "Running chain 1:  45%|█████████▍           | 1890/4200 [00:06<00:03, 678.50it/s]\u001b[A\n",
      "\n",
      "Running chain 2:  90%|██████████████████  | 3780/4200 [00:06<00:00, 1848.17it/s]\u001b[A\u001b[A\n",
      "\n",
      "Running chain 2:  95%|███████████████████ | 3990/4200 [00:06<00:00, 1577.22it/s]\u001b[A\u001b[A\n",
      "Running chain 1:  50%|██████████▌          | 2100/4200 [00:06<00:02, 709.71it/s]\u001b[A\n",
      "\n",
      "Running chain 2: 100%|████████████████████| 4200/4200 [00:07<00:00, 1648.46it/s]\u001b[A\u001b[A\n",
      "Running chain 1:  55%|███████████▌         | 2310/4200 [00:07<00:02, 738.51it/s]\u001b[A\n",
      "Running chain 1:  60%|████████████▌        | 2520/4200 [00:07<00:02, 739.03it/s]\u001b[A\n",
      "Running chain 1:  65%|█████████████▋       | 2730/4200 [00:07<00:02, 717.59it/s]\u001b[A\n",
      "Running chain 1:  70%|██████████████▋      | 2940/4200 [00:08<00:01, 756.87it/s]\u001b[A\n",
      "Running chain 1:  75%|███████████████▊     | 3150/4200 [00:08<00:01, 861.86it/s]\u001b[A\n",
      "Running chain 1:  85%|█████████████████   | 3570/4200 [00:08<00:00, 1259.62it/s]\u001b[A\n",
      "Running chain 0: 100%|█████████████████████| 4200/4200 [00:08<00:00, 482.96it/s]\u001b[A\n",
      "Running chain 1: 100%|█████████████████████| 4200/4200 [00:08<00:00, 483.04it/s]\n",
      "Running chain 2: 100%|█████████████████████| 4200/4200 [00:08<00:00, 483.18it/s]\n",
      "Running chain 3: 100%|█████████████████████| 4200/4200 [00:08<00:00, 483.30it/s]\n"
     ]
    },
    {
     "name": "stdout",
     "output_type": "stream",
     "text": [
      "Sampling time =  0:00:09.216444\n",
      "Transforming variables...\n",
      "Transformation time =  0:00:00.129195\n",
      "Model: king99_pareto_modification\n",
      "        Computed from the raw b_i samples by multiplying by population and then getting\n",
      "        the proportion of the total pop (total pop=summed across all districts):\n",
      "        The posterior mean for the district-level voting preference of\n",
      "        white for Calls for Service is\n",
      "        0.006\n",
      "        The posterior mean for the district-level voting preference of\n",
      "        non-white for Calls for Service is\n",
      "        0.017\n",
      "        95% equal-tailed Bayesian credible interval for district-level voting preference of\n",
      "        white for Calls for Service is\n",
      "        [0.00164817 0.01021374]\n",
      "        95% equal-tailed Bayesian credible interval for district-level voting preference of\n",
      "        non-white for Calls for Service is\n",
      "        [9.73937466e-05 4.46570047e-02]\n",
      "        \n"
     ]
    }
   ],
   "source": [
    "# Fitting a first 2 x 2 model\n",
    "\n",
    "# Create a TwobyTwoEI object\n",
    "ei_race = pyei.TwoByTwoEI(model_name=\"king99_pareto_modification\", pareto_scale=15, pareto_shape=2)\n",
    "\n",
    "# Fit the model\n",
    "ei_race.fit(group_fraction = X_race, \n",
    "       votes_fraction = Y_race, \n",
    "       precinct_pops = precinct_pops, \n",
    "       demographic_group_name=demographic_group_name , \n",
    "       candidate_name=candidate_name, \n",
    "       precinct_names=precinct_names, \n",
    "       draws=1200, # optional\n",
    "       tune=3000, # optional\n",
    "       target_accept=.99# optional\n",
    ")\n",
    "\n",
    "# Generate a simple report to summarize the results\n",
    "print(ei_race.summary())"
   ]
  },
  {
   "cell_type": "code",
   "execution_count": 19,
   "id": "76992d74",
   "metadata": {},
   "outputs": [
    {
     "name": "stdout",
     "output_type": "stream",
     "text": [
      "The posterior mean belief for white is 0.44 with 95% credible interval [0.13, 0.78].\n",
      "\n",
      "The posterior mean belief for non-white is 1.33 with 95% credible interval [0.01, 3.42].\n"
     ]
    }
   ],
   "source": [
    "means = np.array(ei_race.posterior_mean_voting_prefs) * m_race\n",
    "cred_int = np.array(ei_race.credible_interval_95_mean_voting_prefs) * m_race\n",
    "\n",
    "m = np.around(means[0], decimals = 2)\n",
    "c = [np.around(i, decimals = 2) for i in cred_int[0]]\n",
    "print(f\"The posterior mean belief for white is {m} with 95% credible interval {c}.\")\n",
    "\n",
    "m = np.around(means[1], decimals = 2)\n",
    "c = [np.around(i, decimals = 2) for i in cred_int[1]]\n",
    "print(\"\")\n",
    "print(f\"The posterior mean belief for non-white is {m} with 95% credible interval {c}.\")"
   ]
  },
  {
   "cell_type": "code",
   "execution_count": 20,
   "id": "b211d2c9-df12-4782-860e-523d1e723835",
   "metadata": {},
   "outputs": [
    {
     "name": "stdout",
     "output_type": "stream",
     "text": [
      "Goodmans ER, weighted by population\n",
      "        Est. fraction of white\n",
      "        voters who voted for Calls for Service is\n",
      "        0.018\n",
      "        Est. fraction of non- white\n",
      "        voters who voted for Calls for Service is\n",
      "        -0.032\n",
      "        \n"
     ]
    }
   ],
   "source": [
    "# Fitting Goodman's ER - precincts weighted by population\n",
    "race_goodmans_er = pyei.GoodmansER(is_weighted_regression=\"True\")\n",
    "\n",
    "race_goodmans_er.fit(group_fraction = X_race, \n",
    "    vote_fraction = Y_race,\n",
    "    precinct_pops = precinct_pops, # Must include populations if weighting by population\n",
    "    demographic_group_name=demographic_group_name, \n",
    "    candidate_name=candidate_name\n",
    ")\n",
    "\n",
    "print(race_goodmans_er.summary())"
   ]
  },
  {
   "cell_type": "code",
   "execution_count": 21,
   "id": "7fa77718",
   "metadata": {},
   "outputs": [
    {
     "data": {
      "image/png": "[encoded data removed]",
      "text/plain": [
       "<Figure size 640x480 with 1 Axes>"
      ]
     },
     "metadata": {},
     "output_type": "display_data"
    }
   ],
   "source": [
    "race_slope = m_race * float(race_goodmans_er.slope_)\n",
    "race_intercept = m_race * float(race_goodmans_er.intercept_)\n",
    "\n",
    "fig, ax = plt.subplots()\n",
    "ax.scatter(X_race,Y_race * m_race)\n",
    "plt.plot([0,1],[race_intercept, race_slope + race_intercept])\n",
    "\n",
    "ax.set_ylabel(\"Call for Service Rate\", fontsize = 12)\n",
    "ax.set_xlabel(\"Percentage White\", fontsize = 12)\n",
    "\n",
    "plt.show()"
   ]
  },
  {
   "cell_type": "markdown",
   "id": "84ada05e-896c-4a09-9f0a-ddc49f2b5e5c",
   "metadata": {},
   "source": [
    "## Analysis by Income Level\n",
    "\n",
    "Many programs use income as a percent of poverty level as a threshold, like 130% for SNAP and 200% for others like prioritized childcare, so I included the percent of people living above 200% (`incpov_2_`) and below 200% (`incpov__2`).  "
   ]
  },
  {
   "cell_type": "code",
   "execution_count": 22,
   "id": "92f87409-04d3-4d1a-b7b0-66e787be0034",
   "metadata": {},
   "outputs": [
    {
     "data": {
      "text/html": [
       "<div>\n",
       "<style scoped>\n",
       "    .dataframe tbody tr th:only-of-type {\n",
       "        vertical-align: middle;\n",
       "    }\n",
       "\n",
       "    .dataframe tbody tr th {\n",
       "        vertical-align: top;\n",
       "    }\n",
       "\n",
       "    .dataframe thead th {\n",
       "        text-align: right;\n",
       "    }\n",
       "</style>\n",
       "<table border=\"1\" class=\"dataframe\">\n",
       "  <thead>\n",
       "    <tr style=\"text-align: right;\">\n",
       "      <th></th>\n",
       "      <th>pop</th>\n",
       "      <th>race_w</th>\n",
       "      <th>race_b</th>\n",
       "      <th>hhinc</th>\n",
       "      <th>incpercap</th>\n",
       "      <th>incpov_2_</th>\n",
       "      <th>incpov__2</th>\n",
       "      <th>init_count_pre</th>\n",
       "      <th>init_day_pre</th>\n",
       "      <th>tot_count_pre</th>\n",
       "      <th>tot_day_pre</th>\n",
       "      <th>init_p_pre</th>\n",
       "      <th>init_count_covid</th>\n",
       "      <th>init_day_covid</th>\n",
       "      <th>tot_count_covid</th>\n",
       "      <th>tot_day_covid</th>\n",
       "      <th>init_p_covid</th>\n",
       "    </tr>\n",
       "  </thead>\n",
       "  <tbody>\n",
       "    <tr>\n",
       "      <th>0</th>\n",
       "      <td>478</td>\n",
       "      <td>97.07</td>\n",
       "      <td>0.00</td>\n",
       "      <td>83667</td>\n",
       "      <td>73312</td>\n",
       "      <td>90.17</td>\n",
       "      <td>9.83</td>\n",
       "      <td>2815</td>\n",
       "      <td>7.019950</td>\n",
       "      <td>3889</td>\n",
       "      <td>9.698254</td>\n",
       "      <td>72.383646</td>\n",
       "      <td>482</td>\n",
       "      <td>2.190909</td>\n",
       "      <td>945</td>\n",
       "      <td>4.295455</td>\n",
       "      <td>51.005291</td>\n",
       "    </tr>\n",
       "    <tr>\n",
       "      <th>1</th>\n",
       "      <td>1212</td>\n",
       "      <td>85.23</td>\n",
       "      <td>4.04</td>\n",
       "      <td>77604</td>\n",
       "      <td>42620</td>\n",
       "      <td>77.56</td>\n",
       "      <td>22.44</td>\n",
       "      <td>2161</td>\n",
       "      <td>5.389027</td>\n",
       "      <td>3192</td>\n",
       "      <td>7.960100</td>\n",
       "      <td>67.700501</td>\n",
       "      <td>782</td>\n",
       "      <td>3.554545</td>\n",
       "      <td>1373</td>\n",
       "      <td>6.240909</td>\n",
       "      <td>56.955572</td>\n",
       "    </tr>\n",
       "    <tr>\n",
       "      <th>2</th>\n",
       "      <td>2109</td>\n",
       "      <td>71.12</td>\n",
       "      <td>7.02</td>\n",
       "      <td>105913</td>\n",
       "      <td>21587</td>\n",
       "      <td>89.16</td>\n",
       "      <td>10.84</td>\n",
       "      <td>1524</td>\n",
       "      <td>3.800499</td>\n",
       "      <td>1932</td>\n",
       "      <td>4.817955</td>\n",
       "      <td>78.881988</td>\n",
       "      <td>63</td>\n",
       "      <td>0.286364</td>\n",
       "      <td>231</td>\n",
       "      <td>1.050000</td>\n",
       "      <td>27.272727</td>\n",
       "    </tr>\n",
       "    <tr>\n",
       "      <th>3</th>\n",
       "      <td>676</td>\n",
       "      <td>83.14</td>\n",
       "      <td>0.00</td>\n",
       "      <td>66944</td>\n",
       "      <td>35319</td>\n",
       "      <td>68.20</td>\n",
       "      <td>31.80</td>\n",
       "      <td>174</td>\n",
       "      <td>0.433915</td>\n",
       "      <td>380</td>\n",
       "      <td>0.947631</td>\n",
       "      <td>45.789474</td>\n",
       "      <td>14</td>\n",
       "      <td>0.063636</td>\n",
       "      <td>79</td>\n",
       "      <td>0.359091</td>\n",
       "      <td>17.721519</td>\n",
       "    </tr>\n",
       "    <tr>\n",
       "      <th>4</th>\n",
       "      <td>1137</td>\n",
       "      <td>64.56</td>\n",
       "      <td>9.59</td>\n",
       "      <td>55167</td>\n",
       "      <td>14173</td>\n",
       "      <td>65.80</td>\n",
       "      <td>34.20</td>\n",
       "      <td>555</td>\n",
       "      <td>1.384040</td>\n",
       "      <td>961</td>\n",
       "      <td>2.396509</td>\n",
       "      <td>57.752341</td>\n",
       "      <td>12</td>\n",
       "      <td>0.054545</td>\n",
       "      <td>207</td>\n",
       "      <td>0.940909</td>\n",
       "      <td>5.797101</td>\n",
       "    </tr>\n",
       "  </tbody>\n",
       "</table>\n",
       "</div>"
      ],
      "text/plain": [
       "    pop  race_w  race_b   hhinc  incpercap  incpov_2_  incpov__2  \\\n",
       "0   478   97.07    0.00   83667      73312      90.17       9.83   \n",
       "1  1212   85.23    4.04   77604      42620      77.56      22.44   \n",
       "2  2109   71.12    7.02  105913      21587      89.16      10.84   \n",
       "3   676   83.14    0.00   66944      35319      68.20      31.80   \n",
       "4  1137   64.56    9.59   55167      14173      65.80      34.20   \n",
       "\n",
       "   init_count_pre  init_day_pre  tot_count_pre  tot_day_pre  init_p_pre  \\\n",
       "0            2815      7.019950           3889     9.698254   72.383646   \n",
       "1            2161      5.389027           3192     7.960100   67.700501   \n",
       "2            1524      3.800499           1932     4.817955   78.881988   \n",
       "3             174      0.433915            380     0.947631   45.789474   \n",
       "4             555      1.384040            961     2.396509   57.752341   \n",
       "\n",
       "   init_count_covid  init_day_covid  tot_count_covid  tot_day_covid  \\\n",
       "0               482        2.190909              945       4.295455   \n",
       "1               782        3.554545             1373       6.240909   \n",
       "2                63        0.286364              231       1.050000   \n",
       "3                14        0.063636               79       0.359091   \n",
       "4                12        0.054545              207       0.940909   \n",
       "\n",
       "   init_p_covid  \n",
       "0     51.005291  \n",
       "1     56.955572  \n",
       "2     27.272727  \n",
       "3     17.721519  \n",
       "4      5.797101  "
      ]
     },
     "execution_count": 22,
     "metadata": {},
     "output_type": "execute_result"
    }
   ],
   "source": [
    "data.head()"
   ]
  },
  {
   "cell_type": "code",
   "execution_count": 23,
   "id": "1c0ab2e2",
   "metadata": {},
   "outputs": [
    {
     "data": {
      "text/plain": [
       "array([0.9017, 0.7756, 0.8916, 0.682 , 0.658 , 0.8238, 0.8505])"
      ]
     },
     "execution_count": 23,
     "metadata": {},
     "output_type": "execute_result"
    }
   ],
   "source": [
    "# Proportion of non low income residents by CBG.\n",
    "X_pov = 1 - np.array((data[\"incpov__2\"]/100))\n",
    "X_pov"
   ]
  },
  {
   "cell_type": "code",
   "execution_count": 24,
   "id": "94df4de0",
   "metadata": {},
   "outputs": [
    {
     "data": {
      "text/plain": [
       "array([ 431.0126,  940.0272, 1880.3844,  461.032 ,  748.146 ,  860.0472,\n",
       "        729.729 ])"
      ]
     },
     "execution_count": 24,
     "metadata": {},
     "output_type": "execute_result"
    }
   ],
   "source": [
    "# Number of non-low income residents by CBG.\n",
    "num_non_low_inc = X_pov*data[\"pop\"].values\n",
    "num_non_low_inc"
   ]
  },
  {
   "cell_type": "code",
   "execution_count": 25,
   "id": "868192d5",
   "metadata": {},
   "outputs": [
    {
     "data": {
      "text/plain": [
       "array([0.0983, 0.2244, 0.1084, 0.318 , 0.342 , 0.1762, 0.1495])"
      ]
     },
     "execution_count": 25,
     "metadata": {},
     "output_type": "execute_result"
    }
   ],
   "source": [
    "# Proportion of low income residents by CBG.\n",
    "1-X_pov"
   ]
  },
  {
   "cell_type": "code",
   "execution_count": 26,
   "id": "4a50a6f4",
   "metadata": {},
   "outputs": [
    {
     "data": {
      "text/plain": [
       "array([ 46.9874, 271.9728, 228.6156, 214.968 , 388.854 , 183.9528,\n",
       "       128.271 ])"
      ]
     },
     "execution_count": 26,
     "metadata": {},
     "output_type": "execute_result"
    }
   ],
   "source": [
    "# Number of non low-income residents by CBG.\n",
    "num_low_inc = (1-X_pov)*data[\"pop\"].values\n",
    "num_low_inc"
   ]
  },
  {
   "cell_type": "code",
   "execution_count": 28,
   "id": "4973df19",
   "metadata": {},
   "outputs": [
    {
     "data": {
      "text/plain": [
       "22.857191502402785"
      ]
     },
     "execution_count": 28,
     "metadata": {},
     "output_type": "execute_result"
    }
   ],
   "source": [
    "# Normalizing Constant \n",
    "max_calls = max(C)\n",
    "min_pop = min(np.concatenate([num_low_inc, num_non_low_inc]))\n",
    "m_pov = max_calls / min_pop\n",
    "m_pov"
   ]
  },
  {
   "cell_type": "code",
   "execution_count": 29,
   "id": "c4cc1716",
   "metadata": {},
   "outputs": [
    {
     "data": {
      "text/plain": [
       "array([0.0983    , 0.0372163 , 0.00846371, 0.01333207, 0.01562222,\n",
       "       0.02413788, 0.0372741 ])"
      ]
     },
     "execution_count": 29,
     "metadata": {},
     "output_type": "execute_result"
    }
   ],
   "source": [
    "# Normalized call rate by CBG\n",
    "Y_pov = (m_pov ** -1) * np.array(C / data[\"pop\"])\n",
    "Y_pov"
   ]
  },
  {
   "cell_type": "code",
   "execution_count": 30,
   "id": "27ad5336",
   "metadata": {},
   "outputs": [
    {
     "data": {
      "text/plain": [
       "'high/middle income'"
      ]
     },
     "execution_count": 30,
     "metadata": {},
     "output_type": "execute_result"
    }
   ],
   "source": [
    "demographic_group_name = \"high/middle income\"\n",
    "demographic_group_name "
   ]
  },
  {
   "cell_type": "code",
   "execution_count": 31,
   "id": "4068cf3e",
   "metadata": {},
   "outputs": [],
   "source": [
    "precinct_pops = np.array(data[\"pop\"])\n",
    "demographic_group_name = \"high/middle income\"\n",
    "candidate_name = \"Calls for Service\"\n",
    "precinct_names = list(data.index)"
   ]
  },
  {
   "cell_type": "code",
   "execution_count": 32,
   "id": "d24fb251-e18e-43a1-9759-7966612fedbb",
   "metadata": {},
   "outputs": [
    {
     "name": "stdout",
     "output_type": "stream",
     "text": [
      "Compiling...\n"
     ]
    },
    {
     "name": "stderr",
     "output_type": "stream",
     "text": [
      "/home/anna/anaconda3/envs/pp_env/lib/python3.10/site-packages/pymc/aesaraf.py:996: UserWarning: The parameter 'updates' of aesara.function() expects an OrderedDict, got <class 'dict'>. Using a standard dictionary here results in non-deterministic behavior. You should use an OrderedDict if you are using Python 2.7 (collections.OrderedDict for older python), or use a list of (shared, update) pairs. Do not just convert your dictionary to this type before the call as the conversion will still be non-deterministic.\n",
      "  aesara_function = aesara.function(\n"
     ]
    },
    {
     "name": "stdout",
     "output_type": "stream",
     "text": [
      "Compilation time =  0:00:02.355411\n",
      "Sampling...\n"
     ]
    },
    {
     "name": "stderr",
     "output_type": "stream",
     "text": [
      "Compiling.. :   0%|                                    | 0/4200 [00:00<?, ?it/s]\n",
      "  0%|                                                  | 0/4200 [00:00<?, ?it/s]\u001b[A\n",
      "Compiling.. :   0%|                                    | 0/4200 [00:00<?, ?it/s]\u001b[A\n",
      "\n",
      "  0%|                                                  | 0/4200 [00:00<?, ?it/s]\u001b[A\u001b[A\n",
      "\n",
      "Compiling.. :   0%|                                    | 0/4200 [00:00<?, ?it/s]\u001b[A\u001b[A\n",
      "\n",
      "\n",
      "  0%|                                                  | 0/4200 [00:00<?, ?it/s]\u001b[A\u001b[A\u001b[A\n",
      "\n",
      "\n",
      "Compiling.. :   0%|                                    | 0/4200 [00:00<?, ?it/s]\u001b[A\u001b[A\u001b[A\n",
      "\n",
      "Running chain 2:   0%|                                 | 0/4200 [00:04<?, ?it/s]\u001b[A\u001b[A\n",
      "Running chain 1:   0%|                                 | 0/4200 [00:04<?, ?it/s]\u001b[A\n",
      "\n",
      "\n",
      "Running chain 0:   0%|                                 | 0/4200 [00:04<?, ?it/s]\u001b[A\u001b[A\u001b[A\n",
      "\n",
      "Running chain 2:   5%|█                    | 210/4200 [00:04<00:01, 2069.97it/s]\u001b[A\u001b[A\n",
      "Running chain 0:  10%|██                   | 420/4200 [00:04<00:01, 2301.25it/s]\u001b[A\n",
      "\n",
      "\n",
      "Running chain 3:  10%|██                   | 420/4200 [00:04<00:01, 2129.91it/s]\u001b[A\u001b[A\u001b[A\n",
      "Running chain 1:  10%|██                   | 420/4200 [00:04<00:01, 1953.45it/s]\u001b[A\n",
      "\n",
      "Running chain 2:  15%|███▏                 | 630/4200 [00:04<00:01, 2440.68it/s]\u001b[A\u001b[A\n",
      "\n",
      "\n",
      "Running chain 3:  15%|███▏                 | 630/4200 [00:04<00:01, 1818.30it/s]\u001b[A\u001b[A\u001b[A\n",
      "Running chain 0:  20%|████▏                | 840/4200 [00:05<00:01, 2340.89it/s]\u001b[A\n",
      "\n",
      "\n",
      "Running chain 3:  20%|████▏                | 840/4200 [00:05<00:02, 1558.10it/s]\u001b[A\u001b[A\u001b[A\n",
      "\n",
      "Running chain 0:  30%|██████              | 1260/4200 [00:05<00:01, 2275.18it/s]\u001b[A\u001b[A\n",
      "Running chain 1:  20%|████▏                | 840/4200 [00:05<00:02, 1257.62it/s]\u001b[A\n",
      "\n",
      "\n",
      "Running chain 3:  25%|█████               | 1050/4200 [00:05<00:01, 1677.56it/s]\u001b[A\u001b[A\u001b[A\n",
      "\n",
      "Running chain 2:  30%|██████              | 1260/4200 [00:05<00:01, 1892.24it/s]\u001b[A\u001b[A\n",
      "Running chain 1:  25%|█████               | 1050/4200 [00:05<00:02, 1409.24it/s]\u001b[A\n",
      "\n",
      "\n",
      "Running chain 0:  40%|████████            | 1680/4200 [00:05<00:01, 2276.14it/s]\u001b[A\u001b[A\u001b[A\n",
      "\n",
      "Running chain 2:  35%|███████             | 1470/4200 [00:05<00:01, 1895.54it/s]\u001b[A\u001b[A\n",
      "\n",
      "\n",
      "Running chain 3:  35%|███████             | 1470/4200 [00:05<00:01, 1613.62it/s]\u001b[A\u001b[A\u001b[A\n",
      "Running chain 0:  50%|██████████          | 2100/4200 [00:05<00:00, 2146.44it/s]\u001b[A\n",
      "\n",
      "Running chain 2:  45%|█████████           | 1890/4200 [00:05<00:01, 1950.80it/s]\u001b[A\u001b[A\n",
      "\n",
      "\n",
      "Running chain 3:  40%|████████            | 1680/4200 [00:05<00:01, 1695.66it/s]\u001b[A\u001b[A\u001b[A\n",
      "\n",
      "Running chain 0:  60%|████████████        | 2520/4200 [00:05<00:00, 2098.03it/s]\u001b[A\u001b[A\n",
      "Running chain 1:  35%|███████             | 1470/4200 [00:05<00:02, 1072.10it/s]\u001b[A\n",
      "\n",
      "Running chain 0:  65%|█████████████       | 2730/4200 [00:05<00:00, 2087.02it/s]\u001b[A\u001b[A\n",
      "Running chain 0:  70%|██████████████      | 2940/4200 [00:06<00:00, 2088.31it/s]\u001b[A\n",
      "\n",
      "\n",
      "Running chain 3:  45%|█████████▍           | 1890/4200 [00:06<00:02, 972.83it/s]\u001b[A\u001b[A\u001b[A\n",
      "Running chain 1:  45%|█████████           | 1890/4200 [00:06<00:01, 1348.53it/s]\u001b[A\n",
      "\n",
      "Running chain 0:  75%|███████████████     | 3150/4200 [00:06<00:00, 2015.81it/s]\u001b[A\u001b[A\n",
      "\n",
      "\n",
      "Running chain 3:  50%|██████████          | 2100/4200 [00:06<00:01, 1113.72it/s]\u001b[A\u001b[A\u001b[A\n",
      "Running chain 1:  50%|██████████          | 2100/4200 [00:06<00:01, 1378.05it/s]\u001b[A\n",
      "\n",
      "Running chain 2:  70%|██████████████      | 2940/4200 [00:06<00:00, 1775.53it/s]\u001b[A\u001b[A\n",
      "\n",
      "\n",
      "Running chain 3:  55%|███████████         | 2310/4200 [00:06<00:01, 1266.11it/s]\u001b[A\u001b[A\u001b[A\n",
      "Running chain 1:  55%|███████████         | 2310/4200 [00:06<00:01, 1458.92it/s]\u001b[A\n",
      "\n",
      "Running chain 0:  85%|█████████████████   | 3570/4200 [00:06<00:00, 2016.63it/s]\u001b[A\u001b[A\n",
      "Running chain 1:  60%|████████████        | 2520/4200 [00:06<00:01, 1587.84it/s]\u001b[A\n",
      "\n",
      "Running chain 2:  80%|████████████████    | 3360/4200 [00:06<00:00, 1832.68it/s]\u001b[A\u001b[A\n",
      "\n",
      "\n",
      "Running chain 0:  95%|███████████████████ | 3990/4200 [00:06<00:00, 2028.41it/s]\u001b[A\u001b[A\u001b[A\n",
      "\n",
      "Running chain 2:  85%|█████████████████   | 3570/4200 [00:06<00:00, 1866.12it/s]\u001b[A\u001b[A\n",
      "Running chain 1:  65%|█████████████       | 2730/4200 [00:06<00:00, 1587.71it/s]\u001b[A\n",
      "\n",
      "\n",
      "Running chain 3:  65%|█████████████       | 2730/4200 [00:06<00:01, 1302.47it/s]\u001b[A\u001b[A\u001b[A\n",
      "\n",
      "Running chain 2:  90%|██████████████████  | 3780/4200 [00:06<00:00, 1793.72it/s]\u001b[A\u001b[A\n",
      "Running chain 1:  70%|██████████████      | 2940/4200 [00:06<00:00, 1562.85it/s]\u001b[A\n",
      "\n",
      "\n",
      "Running chain 3:  70%|██████████████      | 2940/4200 [00:06<00:00, 1437.32it/s]\u001b[A\u001b[A\u001b[A\n",
      "\n",
      "Running chain 2:  95%|███████████████████ | 3990/4200 [00:06<00:00, 1714.13it/s]\u001b[A\u001b[A\n",
      "Running chain 1:  75%|███████████████     | 3150/4200 [00:06<00:00, 1447.77it/s]\u001b[A\n",
      "\n",
      "Running chain 2: 100%|████████████████████| 4200/4200 [00:06<00:00, 1650.92it/s]\u001b[A\u001b[A\n",
      "Running chain 1:  80%|████████████████    | 3360/4200 [00:07<00:00, 1511.80it/s]\u001b[A\n",
      "\n",
      "\n",
      "Running chain 3:  75%|███████████████     | 3150/4200 [00:07<00:00, 1069.65it/s]\u001b[A\u001b[A\u001b[A\n",
      "Running chain 1:  85%|█████████████████   | 3570/4200 [00:07<00:00, 1554.34it/s]\u001b[A\n",
      "Running chain 1:  90%|██████████████████  | 3780/4200 [00:07<00:00, 1620.59it/s]\u001b[A\n",
      "\n",
      "\n",
      "Running chain 3:  80%|████████████████    | 3360/4200 [00:07<00:00, 1028.40it/s]\u001b[A\u001b[A\u001b[A\n",
      "Running chain 1:  95%|███████████████████ | 3990/4200 [00:07<00:00, 1625.78it/s]\u001b[A\n",
      "Running chain 1: 100%|████████████████████| 4200/4200 [00:07<00:00, 1628.76it/s]\u001b[A\n",
      "\n",
      "\n",
      "Running chain 3:  85%|█████████████████▊   | 3570/4200 [00:07<00:00, 956.85it/s]\u001b[A\u001b[A\u001b[A\n",
      "\n",
      "\n",
      "Running chain 3:  90%|██████████████████▉  | 3780/4200 [00:07<00:00, 914.42it/s]\u001b[A\u001b[A\u001b[A\n",
      "\n",
      "\n",
      "Running chain 3:  95%|███████████████████▉ | 3990/4200 [00:08<00:00, 880.65it/s]\u001b[A\u001b[A\u001b[A\n",
      "\n",
      "\n",
      "Running chain 0: 100%|█████████████████████| 4200/4200 [00:08<00:00, 504.97it/s]\u001b[A\u001b[A\u001b[A\n",
      "Running chain 1: 100%|█████████████████████| 4200/4200 [00:08<00:00, 505.06it/s]\n",
      "Running chain 2: 100%|█████████████████████| 4200/4200 [00:08<00:00, 505.15it/s]\n",
      "Running chain 3: 100%|█████████████████████| 4200/4200 [00:08<00:00, 505.28it/s]\n"
     ]
    },
    {
     "name": "stdout",
     "output_type": "stream",
     "text": [
      "Sampling time =  0:00:08.818781\n",
      "Transforming variables...\n",
      "Transformation time =  0:00:00.045648\n",
      "Model: king99_pareto_modification\n",
      "        Computed from the raw b_i samples by multiplying by population and then getting\n",
      "        the proportion of the total pop (total pop=summed across all districts):\n",
      "        The posterior mean for the district-level voting preference of\n",
      "        high/middle income for Calls for Service is\n",
      "        0.020\n",
      "        The posterior mean for the district-level voting preference of\n",
      "        non-high/middle income for Calls for Service is\n",
      "        0.048\n",
      "        95% equal-tailed Bayesian credible interval for district-level voting preference of\n",
      "        high/middle income for Calls for Service is\n",
      "        [0.00758024 0.0321603 ]\n",
      "        95% equal-tailed Bayesian credible interval for district-level voting preference of\n",
      "        non-high/middle income for Calls for Service is\n",
      "        [0.00168767 0.10673438]\n",
      "        \n"
     ]
    }
   ],
   "source": [
    "# Fitting a first 2 x 2 model\n",
    "\n",
    "# Create a TwobyTwoEI object\n",
    "ei_pov = pyei.TwoByTwoEI(model_name=\"king99_pareto_modification\", pareto_scale=15, pareto_shape=2)\n",
    "\n",
    "# Fit the model\n",
    "ei_pov.fit(group_fraction = X_pov, \n",
    "       votes_fraction = Y_pov, \n",
    "       precinct_pops = precinct_pops, \n",
    "       demographic_group_name=demographic_group_name, \n",
    "       candidate_name=candidate_name, \n",
    "       precinct_names=precinct_names, \n",
    "       draws=1200, # optional\n",
    "       tune=3000, # optional\n",
    "       target_accept=.99# optional\n",
    ")\n",
    "\n",
    "# Generate a simple report to summarize the results\n",
    "print(ei_pov.summary())"
   ]
  },
  {
   "cell_type": "code",
   "execution_count": 33,
   "id": "6e4fd242",
   "metadata": {},
   "outputs": [
    {
     "name": "stdout",
     "output_type": "stream",
     "text": [
      "The posterior mean belief for high/middle-income is 0.46 with 95% credible interval [0.17, 0.74].\n",
      "\n",
      "The posterior mean belief for low-income is 1.11 with 95% credible interval [0.04, 2.44].\n"
     ]
    }
   ],
   "source": [
    "means = np.array(ei_pov.posterior_mean_voting_prefs) * m_pov\n",
    "cred_int = np.array(ei_pov.credible_interval_95_mean_voting_prefs) * m_pov\n",
    "\n",
    "m = np.around(means[0], decimals = 2)\n",
    "c = [np.around(i, decimals = 2) for i in cred_int[0]]\n",
    "print(f\"The posterior mean belief for high/middle-income is {m} with 95% credible interval {c}.\")\n",
    "\n",
    "m = np.around(means[1], decimals = 2)\n",
    "c = [np.around(i, decimals = 2) for i in cred_int[1]]\n",
    "print(\"\")\n",
    "print(f\"The posterior mean belief for low-income is {m} with 95% credible interval {c}.\")"
   ]
  },
  {
   "cell_type": "code",
   "execution_count": 36,
   "id": "44d64fb5-bdfe-4837-980c-5654b86dff6f",
   "metadata": {},
   "outputs": [
    {
     "name": "stdout",
     "output_type": "stream",
     "text": [
      "Goodmans ER, weighted by population\n",
      "        Est. fraction of high/middle income\n",
      "        voters who voted for Calls for Service is\n",
      "        0.036\n",
      "        Est. fraction of non- high/middle income\n",
      "        voters who voted for Calls for Service is\n",
      "        -0.015\n",
      "        \n"
     ]
    }
   ],
   "source": [
    "# Fitting Goodman's ER - precincts weighted by population\n",
    "pov_goodmans_er = pyei.GoodmansER(is_weighted_regression=\"True\")\n",
    "\n",
    "pov_goodmans_er.fit(group_fraction = X_pov, \n",
    "    vote_fraction = Y_pov,\n",
    "    precinct_pops = precinct_pops, # Must include populations if weighting by population\n",
    "    demographic_group_name=demographic_group_name, \n",
    "    candidate_name=candidate_name\n",
    ")\n",
    "\n",
    "print(pov_goodmans_er.summary())"
   ]
  },
  {
   "cell_type": "markdown",
   "id": "bfd9fc1f",
   "metadata": {},
   "source": [
    "# Make Plots"
   ]
  },
  {
   "cell_type": "code",
   "execution_count": 37,
   "id": "a494d919-41f5-4e9d-950b-38e09f0df89f",
   "metadata": {},
   "outputs": [
    {
     "name": "stdout",
     "output_type": "stream",
     "text": [
      "[0.44, 1.33]\n",
      "[0.13 0.78]\n",
      "[0.01 3.42]\n",
      "\n",
      "[0.46, 1.11]\n",
      "[0.17 0.74]\n",
      "[0.04 2.44]\n"
     ]
    },
    {
     "data": {
      "image/png": "[encoded data removed]",
      "text/plain": [
       "<Figure size 1500x500 with 2 Axes>"
      ]
     },
     "metadata": {},
     "output_type": "display_data"
    }
   ],
   "source": [
    "import matplotlib.pyplot as plt\n",
    "from scipy import stats\n",
    "\n",
    "COLOR_MAP = {\n",
    "    \"light_orange\": \"#E69F00\",\n",
    "    \"light_blue\": \"#56B4E9\",\n",
    "    \"teal\": \"#009E73\",\n",
    "    \"yellow\": \"#F0E442\",\n",
    "    \"dark_blue\": \"#0072B2\",\n",
    "    \"dark_orange\": \"#D55E00\",\n",
    "    \"pink\": \"#CC79A7\",\n",
    "    \"purple\": \"#9370DB\",\n",
    "    \"black\": \"#000000\",\n",
    "    \"silver\": \"#DCDCDC\",\n",
    "}\n",
    "names = list(ei_race.group_names_for_display())\n",
    "fig, ax = plt.subplots(1, 2, figsize = (15,5))\n",
    "\n",
    "# Race\n",
    "val_white = m_race * ei_race._voting_prefs_array()[:,0,0]\n",
    "val_nonwhite = m_race * ei_race._voting_prefs_array()[:,1,0]\n",
    "nonwhite_color = COLOR_MAP[\"dark_orange\"]\n",
    "white_color = \"seagreen\"\n",
    "conf_white = np.percentile(val_white, [2.5, 97.5])\n",
    "conf_nonwhite = np.percentile(val_nonwhite, [2.5, 97.5])\n",
    "print([np.around(m * m_race, decimals = 2) for m in ei_race.posterior_mean_voting_prefs])\n",
    "print(np.around(conf_white, decimals = 2))\n",
    "print(np.around(conf_nonwhite, decimals = 2))\n",
    "\n",
    "kde = stats.gaussian_kde(val_white)\n",
    "tt = np.linspace(0, val_white.max(), 100)\n",
    "#ax[0].hist(val_white, bins = 20, linewidth = 1, density = True, color = white_color, alpha = .4)\n",
    "x = tt\n",
    "y = kde(tt)\n",
    "#x = x[np.where(kde(tt) > 1e-08)[0]]\n",
    "#y = y[np.where(kde(tt) > 1e-08)[0]]\n",
    "ax[0].fill_between(x, y, linewidth = 3, label = \"White\", color = white_color)\n",
    "\n",
    "kde = stats.gaussian_kde(val_nonwhite)\n",
    "tt = np.linspace(0, val_nonwhite.max(), 100)\n",
    "#ax[0].hist(val_nonwhite, bins = 20, linewidth = 1, density = True,color = nonwhite_color, alpha = .4)\n",
    "\n",
    "x = tt\n",
    "y = kde(tt)\n",
    "x = x[np.where(kde(tt) > 1e-08)[0]]\n",
    "y = y[np.where(kde(tt) > 1e-08)[0]]\n",
    "ax[0].fill_between(tt, kde(tt), linewidth = 3, label = \"Non-White\", color = nonwhite_color)\n",
    "ax[0].set_xlabel(\"rate\",  fontsize = 15)\n",
    "ax[0].set_ylabel(\"density\",  fontsize = 15)\n",
    "ax[0].axvspan(conf_white[0],conf_white[1], color = white_color, alpha = .2, zorder =0)\n",
    "ax[0].axvspan(conf_nonwhite[0],conf_nonwhite[1], color = nonwhite_color, alpha = .2, zorder = 0)\n",
    "ax[0].legend(fontsize = 15)\n",
    "#ax[0].set_ylim(0,14)\n",
    "#ax[0].set_xlim(0,1)\n",
    "\n",
    "# Wealth\n",
    "val_wealth = m_pov * ei_pov._voting_prefs_array()[:,0,0]\n",
    "val_pov = m_pov * ei_pov._voting_prefs_array()[:,1,0]\n",
    "pov_color = COLOR_MAP[\"dark_orange\"]\n",
    "wealth_color = \"seagreen\"\n",
    "conf_pov = np.percentile(val_pov, [2.5, 97.5])\n",
    "conf_wealth = np.percentile(val_wealth, [2.5, 97.5])\n",
    "print(\"\")\n",
    "print([np.around(m * m_pov, decimals = 2) for m in ei_pov.posterior_mean_voting_prefs])\n",
    "print(np.around(conf_wealth, decimals = 2))\n",
    "print(np.around(conf_pov, decimals = 2))\n",
    "\n",
    "kde = stats.gaussian_kde(val_wealth)\n",
    "tt = np.linspace(0, val_wealth.max(), 100)\n",
    "#ax[1].hist(val_wealth, bins = 20, linewidth = 1, density = True,color = wealth_color, alpha = .4)\n",
    "\n",
    "x = tt\n",
    "y = kde(tt)\n",
    "x = x[np.where(kde(tt) > 1e-08)[0]]\n",
    "y = y[np.where(kde(tt) > 1e-08)[0]]\n",
    "ax[1].fill_between(x, y, linewidth = 3, label = \"Middle-High Income\", color = wealth_color)\n",
    "\n",
    "kde = stats.gaussian_kde(val_pov)\n",
    "tt = np.linspace(0, val_pov.max(), 100)\n",
    "#ax[1].hist(val_pov, bins = 20, linewidth = 2, density = True,color = pov_color, alpha = .4)\n",
    "\n",
    "x = tt\n",
    "y = kde(tt)\n",
    "x = x[np.where(kde(tt) > 1e-08)[0]]\n",
    "y = y[np.where(kde(tt) > 1e-08)[0]]\n",
    "ax[1].fill_between(tt, kde(tt), linewidth = 3, label = \"Low Income\", color = pov_color)\n",
    "ax[1].set_xlabel(\"rate\", fontsize = 15)\n",
    "ax[1].axvspan(conf_pov[0],conf_pov[1], color = pov_color, alpha = .2, zorder = 0)\n",
    "ax[1].axvspan(conf_wealth[0],conf_wealth[1], color = wealth_color, alpha = .2, zorder = 0)\n",
    "ax[1].legend(fontsize = 15)\n",
    "\n",
    "\n",
    "plt.suptitle(\"Rate of Log Calls for Service per Person\", fontsize = 18)\n",
    "plt.show()"
   ]
  },
  {
   "cell_type": "code",
   "execution_count": 38,
   "id": "36be74dd-5f9c-4258-8cff-319ccb3bea58",
   "metadata": {},
   "outputs": [
    {
     "name": "stderr",
     "output_type": "stream",
     "text": [
      "/home/anna/anaconda3/envs/pp_env/lib/python3.10/site-packages/numpy/core/shape_base.py:65: VisibleDeprecationWarning: Creating an ndarray from ragged nested sequences (which is a list-or-tuple of lists-or-tuples-or ndarrays with different lengths or shapes) is deprecated. If you meant to do this, you must specify 'dtype=object' when creating the ndarray.\n",
      "  ary = asanyarray(ary)\n"
     ]
    },
    {
     "data": {
      "image/png": "[encoded data removed]",
      "text/plain": [
       "<Figure size 1000x300 with 2 Axes>"
      ]
     },
     "metadata": {},
     "output_type": "display_data"
    }
   ],
   "source": [
    "fig, ax = plt.subplots(1,2, figsize = (10,3), sharex = True, sharey = True)\n",
    "race_slope = m_race * race_goodmans_er.slope_\n",
    "race_intercept = m_race * race_goodmans_er.intercept_\n",
    "c_true = C/p\n",
    "c_fit_race = race_slope * X_race + race_intercept\n",
    "\n",
    "ax[0].scatter(X_race,c_true)\n",
    "ax[0].plot([0,1],[race_intercept, race_slope + race_intercept])\n",
    "ax[0].set_ylabel(\"Call for Service Rate\", fontsize = 12)\n",
    "ax[0].set_xlabel(\"Percentage White\", fontsize = 12)\n",
    "\n",
    "pov_slope = m_pov * pov_goodmans_er.slope_\n",
    "pov_intercept = m_pov * pov_goodmans_er.intercept_\n",
    "c_fit_pov = pov_slope * X_pov + pov_intercept\n",
    "ax[1].scatter(X_pov,c_true)\n",
    "ax[1].plot([0,1],[pov_intercept, pov_slope + pov_intercept])\n",
    "ax[1].set_xlabel(\"Percentage Middle/High Income\", fontsize = 12)\n",
    "plt.suptitle(\"Ecological Regression Results for Race and Income\", fontsize = 18)\n",
    "plt.show()"
   ]
  },
  {
   "cell_type": "code",
   "execution_count": 45,
   "id": "b0f704b1",
   "metadata": {},
   "outputs": [
    {
     "name": "stdout",
     "output_type": "stream",
     "text": [
      "Race model root mean squared error 0.43582363981662225\n"
     ]
    }
   ],
   "source": [
    "race_rmse = (((c_fit_race - c_true) ** 2).sum()/len(c_true)) ** (1/2)\n",
    "print(f\"Race model root mean squared error {race_rmse}\")"
   ]
  },
  {
   "cell_type": "code",
   "execution_count": 46,
   "id": "827a8cd6",
   "metadata": {},
   "outputs": [
    {
     "name": "stdout",
     "output_type": "stream",
     "text": [
      "Income model root mean squared error 0.6319329023153173\n"
     ]
    }
   ],
   "source": [
    "pov_rmse = (((c_fit_pov - c_true) ** 2).sum()/len(c_true)) ** (1/2)\n",
    "print(f\"Income model root mean squared error {pov_rmse}\")"
   ]
  },
  {
   "cell_type": "code",
   "execution_count": null,
   "id": "f0b774c6",
   "metadata": {},
   "outputs": [],
   "source": []
  }
 ],
 "metadata": {
  "kernelspec": {
   "display_name": "Python 3 (ipykernel)",
   "language": "python",
   "name": "python3"
  },
  "language_info": {
   "codemirror_mode": {
    "name": "ipython",
    "version": 3
   },
   "file_extension": ".py",
   "mimetype": "text/x-python",
   "name": "python",
   "nbconvert_exporter": "python",
   "pygments_lexer": "ipython3",
   "version": "3.10.4"
  }
 },
 "nbformat": 4,
 "nbformat_minor": 5
}
