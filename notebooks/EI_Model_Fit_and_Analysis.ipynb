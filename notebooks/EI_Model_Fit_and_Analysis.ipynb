{
 "cells": [
  {
   "cell_type": "code",
   "execution_count": 1,
   "id": "0e972782-4272-4af6-b2f2-6d38a89d4b30",
   "metadata": {},
   "outputs": [
    {
     "name": "stderr",
     "output_type": "stream",
     "text": [
      "/home/annahaensch/anaconda3/envs/my_env/lib/python3.11/site-packages/pymc/sampling_jax.py:36: UserWarning: This module is experimental.\n",
      "  warnings.warn(\"This module is experimental.\")\n",
      "/home/annahaensch/anaconda3/envs/my_env/lib/python3.11/site-packages/pyei/distribution_utils.py:16: NumbaDeprecationWarning: The 'nopython' keyword argument was not supplied to the 'numba.jit' decorator. The implicit default value for this argument is currently False, but it will be changed to True in Numba 0.59.0. See https://numba.readthedocs.io/en/stable/reference/deprecation.html#deprecation-of-object-mode-fall-back-behaviour-when-using-jit for details.\n",
      "  @jit\n",
      "/home/annahaensch/anaconda3/envs/my_env/lib/python3.11/site-packages/pyei/distribution_utils.py:24: NumbaDeprecationWarning: The 'nopython' keyword argument was not supplied to the 'numba.jit' decorator. The implicit default value for this argument is currently False, but it will be changed to True in Numba 0.59.0. See https://numba.readthedocs.io/en/stable/reference/deprecation.html#deprecation-of-object-mode-fall-back-behaviour-when-using-jit for details.\n",
      "  @jit\n",
      "/home/annahaensch/anaconda3/envs/my_env/lib/python3.11/site-packages/pyei/distribution_utils.py:32: NumbaDeprecationWarning: The 'nopython' keyword argument was not supplied to the 'numba.jit' decorator. The implicit default value for this argument is currently False, but it will be changed to True in Numba 0.59.0. See https://numba.readthedocs.io/en/stable/reference/deprecation.html#deprecation-of-object-mode-fall-back-behaviour-when-using-jit for details.\n",
      "  @jit\n",
      "/home/annahaensch/anaconda3/envs/my_env/lib/python3.11/site-packages/pyei/distribution_utils.py:40: NumbaDeprecationWarning: The 'nopython' keyword argument was not supplied to the 'numba.jit' decorator. The implicit default value for this argument is currently False, but it will be changed to True in Numba 0.59.0. See https://numba.readthedocs.io/en/stable/reference/deprecation.html#deprecation-of-object-mode-fall-back-behaviour-when-using-jit for details.\n",
      "  @jit\n"
     ]
    }
   ],
   "source": [
    "import pymc as pm\n",
    "import pandas as pd\n",
    "import numpy as np\n",
    "\n",
    "import pyei as pyei\n",
    "import matplotlib as mpl\n",
    "import matplotlib.pyplot as plt\n",
    "#from pymc import sampling_jax\n",
    "import arviz as az\n",
    "import seaborn as sns\n",
    "\n",
    "from scipy import stats\n",
    "\n",
    "import sys\n",
    "sys.path.append('..')"
   ]
  },
  {
   "cell_type": "code",
   "execution_count": 2,
   "id": "98b6d950",
   "metadata": {},
   "outputs": [
    {
     "data": {
      "text/plain": [
       "'4.0.0b5'"
      ]
     },
     "execution_count": 2,
     "metadata": {},
     "output_type": "execute_result"
    }
   ],
   "source": [
    "pm.__version__"
   ]
  },
  {
   "cell_type": "code",
   "execution_count": 5,
   "id": "9040f3b3-a81f-4e53-8ee8-6eb9c31ba270",
   "metadata": {},
   "outputs": [
    {
     "data": {
      "text/html": [
       "<div>\n",
       "<style scoped>\n",
       "    .dataframe tbody tr th:only-of-type {\n",
       "        vertical-align: middle;\n",
       "    }\n",
       "\n",
       "    .dataframe tbody tr th {\n",
       "        vertical-align: top;\n",
       "    }\n",
       "\n",
       "    .dataframe thead th {\n",
       "        text-align: right;\n",
       "    }\n",
       "</style>\n",
       "<table border=\"1\" class=\"dataframe\">\n",
       "  <thead>\n",
       "    <tr style=\"text-align: right;\">\n",
       "      <th></th>\n",
       "      <th>pop</th>\n",
       "      <th>race_w</th>\n",
       "      <th>race_b</th>\n",
       "      <th>hhinc</th>\n",
       "      <th>incpercap</th>\n",
       "      <th>incpov_2_</th>\n",
       "      <th>incpov__2</th>\n",
       "      <th>init_count_pre</th>\n",
       "      <th>init_day_pre</th>\n",
       "      <th>tot_count_pre</th>\n",
       "      <th>tot_day_pre</th>\n",
       "      <th>init_p_pre</th>\n",
       "      <th>init_count_covid</th>\n",
       "      <th>init_day_covid</th>\n",
       "      <th>tot_count_covid</th>\n",
       "      <th>tot_day_covid</th>\n",
       "      <th>init_p_covid</th>\n",
       "    </tr>\n",
       "  </thead>\n",
       "  <tbody>\n",
       "    <tr>\n",
       "      <th>0</th>\n",
       "      <td>478</td>\n",
       "      <td>97.07</td>\n",
       "      <td>0.00</td>\n",
       "      <td>83667</td>\n",
       "      <td>73312</td>\n",
       "      <td>90.17</td>\n",
       "      <td>9.83</td>\n",
       "      <td>2815</td>\n",
       "      <td>7.019950</td>\n",
       "      <td>3889</td>\n",
       "      <td>9.698254</td>\n",
       "      <td>72.383646</td>\n",
       "      <td>482</td>\n",
       "      <td>2.190909</td>\n",
       "      <td>945</td>\n",
       "      <td>4.295455</td>\n",
       "      <td>51.005291</td>\n",
       "    </tr>\n",
       "    <tr>\n",
       "      <th>1</th>\n",
       "      <td>1212</td>\n",
       "      <td>85.23</td>\n",
       "      <td>4.04</td>\n",
       "      <td>77604</td>\n",
       "      <td>42620</td>\n",
       "      <td>77.56</td>\n",
       "      <td>22.44</td>\n",
       "      <td>2161</td>\n",
       "      <td>5.389027</td>\n",
       "      <td>3192</td>\n",
       "      <td>7.960100</td>\n",
       "      <td>67.700501</td>\n",
       "      <td>782</td>\n",
       "      <td>3.554545</td>\n",
       "      <td>1373</td>\n",
       "      <td>6.240909</td>\n",
       "      <td>56.955572</td>\n",
       "    </tr>\n",
       "    <tr>\n",
       "      <th>2</th>\n",
       "      <td>2109</td>\n",
       "      <td>71.12</td>\n",
       "      <td>7.02</td>\n",
       "      <td>105913</td>\n",
       "      <td>21587</td>\n",
       "      <td>89.16</td>\n",
       "      <td>10.84</td>\n",
       "      <td>1524</td>\n",
       "      <td>3.800499</td>\n",
       "      <td>1932</td>\n",
       "      <td>4.817955</td>\n",
       "      <td>78.881988</td>\n",
       "      <td>63</td>\n",
       "      <td>0.286364</td>\n",
       "      <td>231</td>\n",
       "      <td>1.050000</td>\n",
       "      <td>27.272727</td>\n",
       "    </tr>\n",
       "    <tr>\n",
       "      <th>3</th>\n",
       "      <td>676</td>\n",
       "      <td>83.14</td>\n",
       "      <td>0.00</td>\n",
       "      <td>66944</td>\n",
       "      <td>35319</td>\n",
       "      <td>68.20</td>\n",
       "      <td>31.80</td>\n",
       "      <td>174</td>\n",
       "      <td>0.433915</td>\n",
       "      <td>380</td>\n",
       "      <td>0.947631</td>\n",
       "      <td>45.789474</td>\n",
       "      <td>14</td>\n",
       "      <td>0.063636</td>\n",
       "      <td>79</td>\n",
       "      <td>0.359091</td>\n",
       "      <td>17.721519</td>\n",
       "    </tr>\n",
       "    <tr>\n",
       "      <th>4</th>\n",
       "      <td>1137</td>\n",
       "      <td>64.56</td>\n",
       "      <td>9.59</td>\n",
       "      <td>55167</td>\n",
       "      <td>14173</td>\n",
       "      <td>65.80</td>\n",
       "      <td>34.20</td>\n",
       "      <td>555</td>\n",
       "      <td>1.384040</td>\n",
       "      <td>961</td>\n",
       "      <td>2.396509</td>\n",
       "      <td>57.752341</td>\n",
       "      <td>12</td>\n",
       "      <td>0.054545</td>\n",
       "      <td>207</td>\n",
       "      <td>0.940909</td>\n",
       "      <td>5.797101</td>\n",
       "    </tr>\n",
       "    <tr>\n",
       "      <th>5</th>\n",
       "      <td>1044</td>\n",
       "      <td>81.80</td>\n",
       "      <td>4.69</td>\n",
       "      <td>116875</td>\n",
       "      <td>43521</td>\n",
       "      <td>82.38</td>\n",
       "      <td>17.62</td>\n",
       "      <td>1285</td>\n",
       "      <td>3.204489</td>\n",
       "      <td>1861</td>\n",
       "      <td>4.640898</td>\n",
       "      <td>69.048898</td>\n",
       "      <td>355</td>\n",
       "      <td>1.613636</td>\n",
       "      <td>628</td>\n",
       "      <td>2.854545</td>\n",
       "      <td>56.528662</td>\n",
       "    </tr>\n",
       "    <tr>\n",
       "      <th>6</th>\n",
       "      <td>858</td>\n",
       "      <td>92.66</td>\n",
       "      <td>2.45</td>\n",
       "      <td>81875</td>\n",
       "      <td>39540</td>\n",
       "      <td>85.05</td>\n",
       "      <td>14.95</td>\n",
       "      <td>2149</td>\n",
       "      <td>5.359102</td>\n",
       "      <td>2880</td>\n",
       "      <td>7.182045</td>\n",
       "      <td>74.618056</td>\n",
       "      <td>830</td>\n",
       "      <td>3.772727</td>\n",
       "      <td>1206</td>\n",
       "      <td>5.481818</td>\n",
       "      <td>68.822554</td>\n",
       "    </tr>\n",
       "  </tbody>\n",
       "</table>\n",
       "</div>"
      ],
      "text/plain": [
       "    pop  race_w  race_b   hhinc  incpercap  incpov_2_  incpov__2  \\\n",
       "0   478   97.07    0.00   83667      73312      90.17       9.83   \n",
       "1  1212   85.23    4.04   77604      42620      77.56      22.44   \n",
       "2  2109   71.12    7.02  105913      21587      89.16      10.84   \n",
       "3   676   83.14    0.00   66944      35319      68.20      31.80   \n",
       "4  1137   64.56    9.59   55167      14173      65.80      34.20   \n",
       "5  1044   81.80    4.69  116875      43521      82.38      17.62   \n",
       "6   858   92.66    2.45   81875      39540      85.05      14.95   \n",
       "\n",
       "   init_count_pre  init_day_pre  tot_count_pre  tot_day_pre  init_p_pre  \\\n",
       "0            2815      7.019950           3889     9.698254   72.383646   \n",
       "1            2161      5.389027           3192     7.960100   67.700501   \n",
       "2            1524      3.800499           1932     4.817955   78.881988   \n",
       "3             174      0.433915            380     0.947631   45.789474   \n",
       "4             555      1.384040            961     2.396509   57.752341   \n",
       "5            1285      3.204489           1861     4.640898   69.048898   \n",
       "6            2149      5.359102           2880     7.182045   74.618056   \n",
       "\n",
       "   init_count_covid  init_day_covid  tot_count_covid  tot_day_covid  \\\n",
       "0               482        2.190909              945       4.295455   \n",
       "1               782        3.554545             1373       6.240909   \n",
       "2                63        0.286364              231       1.050000   \n",
       "3                14        0.063636               79       0.359091   \n",
       "4                12        0.054545              207       0.940909   \n",
       "5               355        1.613636              628       2.854545   \n",
       "6               830        3.772727             1206       5.481818   \n",
       "\n",
       "   init_p_covid  \n",
       "0     51.005291  \n",
       "1     56.955572  \n",
       "2     27.272727  \n",
       "3     17.721519  \n",
       "4      5.797101  \n",
       "5     56.528662  \n",
       "6     68.822554  "
      ]
     },
     "execution_count": 5,
     "metadata": {},
     "output_type": "execute_result"
    }
   ],
   "source": [
    "# Example 2x2 data\n",
    "data = pd.read_csv(\"../data/demographics_with_race.csv\", index_col = 0)\n",
    "data"
   ]
  },
  {
   "cell_type": "code",
   "execution_count": 6,
   "id": "afbaf338-1796-4cdc-82b9-65bbe8e6cb25",
   "metadata": {},
   "outputs": [
    {
     "data": {
      "text/plain": [
       "array([ 478, 1212, 2109,  676, 1137, 1044,  858])"
      ]
     },
     "execution_count": 6,
     "metadata": {},
     "output_type": "execute_result"
    }
   ],
   "source": [
    "# Proportion of white residents by CBG.\n",
    "X_race = np.array((data[\"race_w\"]/100))\n",
    "X_race\n",
    "\n",
    "# Number of white residents by CBG.\n",
    "num_white = X_race * data[\"pop\"].values\n",
    "num_white\n",
    "\n",
    "# Proportion of non-white residents by CBG.\n",
    "1-X_race\n",
    "\n",
    "# Number of non-white residents by CBG.\n",
    "num_non_white = (1-X_race)*data[\"pop\"].values\n",
    "num_non_white\n",
    "\n",
    "# Number of calls by CBG\n",
    "C = (np.array(data[\"tot_count_pre\"]) - np.array(data[\"init_count_pre\"])) \n",
    "C\n",
    "\n",
    "# Number of people by CBG\n",
    "p = data[\"pop\"].values\n",
    "p"
   ]
  },
  {
   "cell_type": "code",
   "execution_count": 7,
   "id": "30318433-e846-42f5-b6fb-5a73a3ada5c9",
   "metadata": {},
   "outputs": [],
   "source": [
    "# Proportion of non low income residents by CBG.\n",
    "X_pov = 1 - np.array((data[\"incpov__2\"]/100))\n",
    "\n",
    "# Number of non-low income residents by CBG.\n",
    "num_non_low_inc = X_pov*data[\"pop\"].values.round()\n",
    "num_non_low_inc\n",
    "\n",
    "# Number of non low-income residents by CBG.\n",
    "num_low_inc = p - num_non_low_inc\n"
   ]
  },
  {
   "cell_type": "code",
   "execution_count": 8,
   "id": "2bf72be6-41dd-419a-9c92-bc524f2cc587",
   "metadata": {},
   "outputs": [
    {
     "data": {
      "text/plain": [
       "array([2.24686192, 0.85066007, 0.19345661, 0.30473373, 0.35708004,\n",
       "       0.55172414, 0.85198135])"
      ]
     },
     "execution_count": 8,
     "metadata": {},
     "output_type": "execute_result"
    }
   ],
   "source": [
    "C/p"
   ]
  },
  {
   "cell_type": "code",
   "execution_count": 9,
   "id": "58d1b2d6",
   "metadata": {},
   "outputs": [
    {
     "data": {
      "text/plain": [
       "array([1074, 1031,  408,  206,  406,  576,  731])"
      ]
     },
     "execution_count": 9,
     "metadata": {},
     "output_type": "execute_result"
    }
   ],
   "source": [
    "C"
   ]
  },
  {
   "attachments": {},
   "cell_type": "markdown",
   "id": "a074e1a6-2070-47e9-b1de-eb09e69c4d21",
   "metadata": {},
   "source": [
    "## Set up and fit the model"
   ]
  },
  {
   "cell_type": "code",
   "execution_count": null,
   "id": "fab4a051-075d-43df-bd85-727ce549bb0b",
   "metadata": {},
   "outputs": [
    {
     "name": "stderr",
     "output_type": "stream",
     "text": [
      "Auto-assigning NUTS sampler...\n",
      "Initializing NUTS using jitter+adapt_diag...\n",
      "/home/annahaensch/anaconda3/envs/my_env/lib/python3.11/site-packages/pymc/aesaraf.py:996: UserWarning: The parameter 'updates' of aesara.function() expects an OrderedDict, got <class 'dict'>. Using a standard dictionary here results in non-deterministic behavior. You should use an OrderedDict if you are using Python 2.7 (collections.OrderedDict for older python), or use a list of (shared, update) pairs. Do not just convert your dictionary to this type before the call as the conversion will still be non-deterministic.\n",
      "  aesara_function = aesara.function(\n",
      "Multiprocess sampling (4 chains in 4 jobs)\n",
      "NUTS: [mu_1, mu_2, sigma_1, sigma_2, b_1, b_2]\n"
     ]
    },
    {
     "data": {
      "text/html": [
       "\n",
       "<style>\n",
       "    /* Turns off some styling */\n",
       "    progress {\n",
       "        /* gets rid of default border in Firefox and Opera. */\n",
       "        border: none;\n",
       "        /* Needs to be in here for Safari polyfill so background images work as expected. */\n",
       "        background-size: auto;\n",
       "    }\n",
       "    progress:not([value]), progress:not([value])::-webkit-progress-bar {\n",
       "        background: repeating-linear-gradient(45deg, #7e7e7e, #7e7e7e 10px, #5c5c5c 10px, #5c5c5c 20px);\n",
       "    }\n",
       "    .progress-bar-interrupted, .progress-bar-interrupted::-webkit-progress-bar {\n",
       "        background: #F44336;\n",
       "    }\n",
       "</style>\n"
      ],
      "text/plain": [
       "<IPython.core.display.HTML object>"
      ]
     },
     "metadata": {},
     "output_type": "display_data"
    },
    {
     "data": {
      "text/html": [
       "\n",
       "    <div>\n",
       "      <progress value='3979' class='' max='16000' style='width:300px; height:20px; vertical-align: middle;'></progress>\n",
       "      24.87% [3979/16000 00:37&lt;01:53 Sampling 4 chains, 0 divergences]\n",
       "    </div>\n",
       "    "
      ],
      "text/plain": [
       "<IPython.core.display.HTML object>"
      ]
     },
     "metadata": {},
     "output_type": "display_data"
    }
   ],
   "source": [
    "num_precincts = len(p)\n",
    "def fit_model2(num_gp1, num_gp2, C):\n",
    "    num_precincts = len(C)\n",
    "    with pm.Model(rng_seeder=42) as model:\n",
    "\n",
    "        mu_1 =    pm.HalfCauchy(\"mu_1\", 1)\n",
    "        mu_2 =    pm.HalfCauchy(\"mu_2\", 1) \n",
    "       \n",
    "        sigma_1 = pm.Gamma(\"sigma_1\", mu=4, sigma = 8 ** 0.5)\n",
    "        sigma_2 = pm.Gamma(\"sigma_2\", mu=4, sigma = 8 ** 0.5)\n",
    "\n",
    "        b_1 = pm.TruncatedNormal(\"b_1\", mu=mu_1, sigma=sigma_1, lower=0, shape=num_precincts)\n",
    "        b_2 = pm.TruncatedNormal(\"b_2\", mu=mu_2, sigma=sigma_2, lower=0, shape=num_precincts)\n",
    "\n",
    "        theta = num_gp1 * b_1 + num_gp2 * b_2\n",
    "\n",
    "        pm.Poisson(\"calls_for_service\", mu=theta, observed=C)\n",
    "\n",
    "        sim_trace = pm.sample(\n",
    "            draws=2000,\n",
    "            chains=4,\n",
    "            tune=2000,\n",
    "            target_accept = .995,\n",
    "            random_seed=42\n",
    "            )\n",
    "         # sim_trace = sampling_jax.sample_numpyro_nuts(\n",
    "        #                         #target_accept=target_accept,\n",
    "        #                         #tune=tune,\n",
    "        #                         #**other_sampling_args,\n",
    "        #                     )\n",
    "\n",
    "        \n",
    "        return sim_trace, model\n",
    "\n",
    "sim_trace_model2, model2 = fit_model2(num_white, num_non_white, C)\n",
    "sim_trace_model2_inc, model_inc = fit_model2(num_low_inc, num_non_low_inc, C)\n",
    "\n",
    "   "
   ]
  },
  {
   "attachments": {},
   "cell_type": "markdown",
   "id": "961ff30b-f603-467b-8d1d-865439306298",
   "metadata": {},
   "source": [
    "## Inspect traces, visualize some priors"
   ]
  },
  {
   "cell_type": "code",
   "execution_count": null,
   "id": "f5f63448-3040-4c4e-9473-0b567e6a7f8b",
   "metadata": {},
   "outputs": [],
   "source": [
    "\n",
    "az.plot_trace(sim_trace_model2)"
   ]
  },
  {
   "attachments": {},
   "cell_type": "markdown",
   "id": "e414eb07",
   "metadata": {},
   "source": [
    "## Prior predictive checks"
   ]
  },
  {
   "cell_type": "code",
   "execution_count": null,
   "id": "cb37dd79-8427-4eea-887f-1ea42b59f61b",
   "metadata": {},
   "outputs": [],
   "source": [
    "# visualize hyperpriors\n",
    "sigma_test = np.linspace(0.1,5,100)\n",
    "m_1 = 4\n",
    "s_1 = 8 ** 0.5\n",
    "sigma_1 = pm.Gamma.dist(mu=m_1, sigma=s_1)\n",
    "sigma_logp = pm.logp(sigma_1, sigma_test).eval()\n",
    "\n",
    "fig, axes = plt.subplots(1, 4, figsize=(12,3))\n",
    "axes[0].plot(sigma_test, np.exp(sigma_logp))\n",
    "axes[0].set_title(r\"prior for $\\sigma_g, \\sigma_0$\")\n",
    "\n",
    "mu_test = np.linspace(0.1, 4, 100)\n",
    "mu_1 = pm.HalfCauchy.dist(1)\n",
    "mu_1_logp = pm.logp(mu_1, mu_test).eval()\n",
    "axes[1].plot(mu_test, np.exp(mu_1_logp))\n",
    "axes[1].set_title(r\"prior for $\\mu_g, \\mu_0$\")\n",
    "\n",
    "mu_1 = 2\n",
    "sigma_1 = 2\n",
    "b_1 = pm.Gamma.dist(mu=mu_1, sigma=sigma_1)\n",
    "b_1_logp = pm.logp(b_1, mu_test).eval()\n",
    "axes[2].plot(mu_test, np.exp(b_1_logp))\n",
    "axes[2].set_title(fr\"$r_0$ | $\\mu_0$={mu_1}, $\\sigma_0$={sigma_1}\")\n",
    "\n",
    "mu_1 = 1\n",
    "sigma_1 = 3\n",
    "b_1 = pm.Gamma.dist(mu=mu_1, sigma=sigma_1)\n",
    "b_1_logp = pm.logp(b_1, mu_test).eval()\n",
    "axes[3].plot(mu_test, np.exp(b_1_logp))\n",
    "axes[3].set_title(fr\"$r_1$ | $\\mu_0$={mu_1}, $\\sigma_0$={sigma_1}\")\n",
    "plt.show()"
   ]
  },
  {
   "cell_type": "code",
   "execution_count": null,
   "id": "c3a0afe8",
   "metadata": {},
   "outputs": [],
   "source": [
    "with model2:\n",
    "    prior_predictive = pm.sample_prior_predictive(samples=500, random_seed=42)\n",
    "with model_inc:\n",
    "    prior_predictive_inc = pm.sample_prior_predictive(samples=500, random_seed=42)\n"
   ]
  },
  {
   "cell_type": "code",
   "execution_count": null,
   "id": "de4e45c4",
   "metadata": {},
   "outputs": [],
   "source": [
    "mpl.style.use('seaborn-talk')\n",
    "fig, axes = plt.subplots(2, num_precincts, figsize=(12,5), sharey='row', sharex='row')\n",
    "\n",
    "b_1_samps = az.extract(prior_predictive['prior'])['b_1'].to_numpy()\n",
    "# reorder for alphabetical ordering\n",
    "for i in [0,1,2,3,5,4,6]:\n",
    "    ax=axes[0][i]\n",
    "    sns.histplot(b_1_samps[i,:], fill=True, color='royalblue', ax=ax, stat='density')\n",
    "    ax.set_ylabel('Prior density')\n",
    "    ax.set_xlim((0,20))\n",
    "\n",
    "axes[0][0].set_xlabel('Call rate')\n",
    "print(f\"{(b_1_samps.flatten() > 20).sum() / len(b_1_samps.flatten()):0.3f}\")\n",
    "\n",
    "#fig, axes = plt.subplots(1, num_precincts, figsize=(12,3), sharex=True, sharey=True)\n",
    "calls_for_service_samps = az.extract(prior_predictive['prior_predictive'])['calls_for_service'].to_numpy()\n",
    "for i in [0,1,2,3,5,4,6]:\n",
    "    ax = axes[1][i]\n",
    "    sns.histplot(calls_for_service_samps[i,:], fill=True, color='royalblue', ax=ax, stat='density')\n",
    "    ax.set_ylabel('Prior pred. density')\n",
    "    ax.set_xlim((0, 20000))\n",
    "\n",
    "print(f\"{(calls_for_service_samps.flatten() > 20_000 ).sum() / len(calls_for_service_samps.flatten()):0.3f}\")\n",
    "\n",
    "axes[1][0].set_xlabel('Call count')\n",
    "plt.tight_layout()\n",
    "fig.savefig('figs/prior_predictive_check.png', dpi=300, bbox_inches='tight')\n",
    "plt.show()"
   ]
  },
  {
   "attachments": {},
   "cell_type": "markdown",
   "id": "c3e309d9",
   "metadata": {},
   "source": [
    "## Posterior predictive check"
   ]
  },
  {
   "cell_type": "code",
   "execution_count": 13,
   "id": "5d6d49d8",
   "metadata": {},
   "outputs": [
    {
     "data": {
      "text/html": [
       "\n",
       "<style>\n",
       "    /* Turns off some styling */\n",
       "    progress {\n",
       "        /* gets rid of default border in Firefox and Opera. */\n",
       "        border: none;\n",
       "        /* Needs to be in here for Safari polyfill so background images work as expected. */\n",
       "        background-size: auto;\n",
       "    }\n",
       "    progress:not([value]), progress:not([value])::-webkit-progress-bar {\n",
       "        background: repeating-linear-gradient(45deg, #7e7e7e, #7e7e7e 10px, #5c5c5c 10px, #5c5c5c 20px);\n",
       "    }\n",
       "    .progress-bar-interrupted, .progress-bar-interrupted::-webkit-progress-bar {\n",
       "        background: #F44336;\n",
       "    }\n",
       "</style>\n"
      ],
      "text/plain": [
       "<IPython.core.display.HTML object>"
      ]
     },
     "metadata": {},
     "output_type": "display_data"
    },
    {
     "data": {
      "text/html": [
       "\n",
       "    <div>\n",
       "      <progress value='8000' class='' max='8000' style='width:300px; height:20px; vertical-align: middle;'></progress>\n",
       "      100.00% [8000/8000 00:00&lt;00:00]\n",
       "    </div>\n",
       "    "
      ],
      "text/plain": [
       "<IPython.core.display.HTML object>"
      ]
     },
     "metadata": {},
     "output_type": "display_data"
    },
    {
     "data": {
      "text/html": [
       "\n",
       "<style>\n",
       "    /* Turns off some styling */\n",
       "    progress {\n",
       "        /* gets rid of default border in Firefox and Opera. */\n",
       "        border: none;\n",
       "        /* Needs to be in here for Safari polyfill so background images work as expected. */\n",
       "        background-size: auto;\n",
       "    }\n",
       "    progress:not([value]), progress:not([value])::-webkit-progress-bar {\n",
       "        background: repeating-linear-gradient(45deg, #7e7e7e, #7e7e7e 10px, #5c5c5c 10px, #5c5c5c 20px);\n",
       "    }\n",
       "    .progress-bar-interrupted, .progress-bar-interrupted::-webkit-progress-bar {\n",
       "        background: #F44336;\n",
       "    }\n",
       "</style>\n"
      ],
      "text/plain": [
       "<IPython.core.display.HTML object>"
      ]
     },
     "metadata": {},
     "output_type": "display_data"
    },
    {
     "data": {
      "text/html": [
       "\n",
       "    <div>\n",
       "      <progress value='8000' class='' max='8000' style='width:300px; height:20px; vertical-align: middle;'></progress>\n",
       "      100.00% [8000/8000 00:00&lt;00:00]\n",
       "    </div>\n",
       "    "
      ],
      "text/plain": [
       "<IPython.core.display.HTML object>"
      ]
     },
     "metadata": {},
     "output_type": "display_data"
    },
    {
     "name": "stdout",
     "output_type": "stream",
     "text": [
      "(7, 8000)\n"
     ]
    }
   ],
   "source": [
    "with model2:\n",
    "    ppc = pm.sample_posterior_predictive(sim_trace_model2)\n",
    "with model_inc:\n",
    "    ppc_inc = pm.sample_posterior_predictive(sim_trace_model2_inc)\n",
    "calls_for_service_posterior_pred_samps = az.extract(ppc, group='posterior_predictive')['calls_for_service']\n",
    "calls_for_service_posterior_pred_samps_inc = az.extract(ppc_inc, group='posterior_predictive')['calls_for_service']\n",
    "\n",
    "print(calls_for_service_posterior_pred_samps.shape)\n",
    "\n",
    "\n"
   ]
  },
  {
   "cell_type": "code",
   "execution_count": 14,
   "id": "b75ebe53",
   "metadata": {},
   "outputs": [
    {
     "data": {
      "image/png": "[encoded data removed]",
      "text/plain": [
       "<Figure size 1200x600 with 14 Axes>"
      ]
     },
     "metadata": {},
     "output_type": "display_data"
    }
   ],
   "source": [
    "fig, axes = plt.subplots(2, num_precincts, figsize=(12,6), sharey=True)\n",
    "#THe indexing is a little funny here because we want the ordering\n",
    "# be alphabetical, but the data is ordered by rows ABCDFEG (not in order)\n",
    "for i in [0,1,2,3,5,4,6]:\n",
    "    ax = axes[0][i]\n",
    "    sns.kdeplot(calls_for_service_posterior_pred_samps[i, :], fill=True, ax=ax)\n",
    "    ax.set_ylabel('posterior pred. \\n density', fontsize=14)\n",
    "    ax.axvline(C[i], linestyle='--', color='gray')\n",
    "    ax.spines['top'].set_visible(False)\n",
    "    ax.spines['right'].set_visible(False)\n",
    "\n",
    "    ax = axes[1][i]\n",
    "    sns.kdeplot(calls_for_service_posterior_pred_samps_inc[i, :], fill=True, ax=ax)\n",
    "    ax.set_ylabel('posterior pred. \\n density', fontsize=14)\n",
    "    ax.axvline(C[i], linestyle='--', color='gray')\n",
    "    ax.spines['top'].set_visible(False)\n",
    "    ax.spines['right'].set_visible(False)\n",
    "fig.savefig('figs/posterior_predictive_check.png', dpi=300, bbox_inches='tight')"
   ]
  },
  {
   "attachments": {},
   "cell_type": "markdown",
   "id": "adf7eb4f",
   "metadata": {},
   "source": [
    "## Convergence diagnostics"
   ]
  },
  {
   "cell_type": "code",
   "execution_count": 15,
   "id": "3a04f65c",
   "metadata": {},
   "outputs": [
    {
     "data": {
      "text/plain": [
       "ValuesView(<xarray.Dataset>\n",
       "Dimensions:  ()\n",
       "Data variables:\n",
       "    mu_1     float64 1.001\n",
       "    mu_2     float64 1.001\n",
       "    sigma_1  float64 0.9998\n",
       "    sigma_2  float64 1.002\n",
       "    b_1      float64 1.003\n",
       "    b_2      float64 1.003)"
      ]
     },
     "execution_count": 15,
     "metadata": {},
     "output_type": "execute_result"
    }
   ],
   "source": [
    "az.rhat(sim_trace_model2).max().values()"
   ]
  },
  {
   "cell_type": "code",
   "execution_count": 16,
   "id": "668ab280",
   "metadata": {},
   "outputs": [
    {
     "data": {
      "text/plain": [
       "ValuesView(<xarray.Dataset>\n",
       "Dimensions:  ()\n",
       "Data variables:\n",
       "    mu_1     float64 4.352e+03\n",
       "    mu_2     float64 3.258e+03\n",
       "    sigma_1  float64 8.022e+03\n",
       "    sigma_2  float64 1.267e+03\n",
       "    b_1      float64 1.583e+03\n",
       "    b_2      float64 1.407e+03)"
      ]
     },
     "execution_count": 16,
     "metadata": {},
     "output_type": "execute_result"
    }
   ],
   "source": [
    "az.ess(sim_trace_model2).min().values()"
   ]
  },
  {
   "cell_type": "code",
   "execution_count": 17,
   "id": "0193413f",
   "metadata": {},
   "outputs": [
    {
     "data": {
      "text/plain": [
       "ValuesView(<xarray.Dataset>\n",
       "Dimensions:  ()\n",
       "Data variables:\n",
       "    mu_1     float64 1.001\n",
       "    mu_2     float64 1.001\n",
       "    sigma_1  float64 1.003\n",
       "    sigma_2  float64 1.0\n",
       "    b_1      float64 1.003\n",
       "    b_2      float64 1.002)"
      ]
     },
     "execution_count": 17,
     "metadata": {},
     "output_type": "execute_result"
    }
   ],
   "source": [
    "az.rhat(sim_trace_model2_inc).max().values()"
   ]
  },
  {
   "cell_type": "code",
   "execution_count": 18,
   "id": "e202273c",
   "metadata": {},
   "outputs": [
    {
     "data": {
      "text/plain": [
       "ValuesView(<xarray.Dataset>\n",
       "Dimensions:  ()\n",
       "Data variables:\n",
       "    mu_1     float64 1.001\n",
       "    mu_2     float64 1.001\n",
       "    sigma_1  float64 1.003\n",
       "    sigma_2  float64 1.0\n",
       "    b_1      float64 1.0\n",
       "    b_2      float64 1.001)"
      ]
     },
     "execution_count": 18,
     "metadata": {},
     "output_type": "execute_result"
    }
   ],
   "source": [
    "az.rhat(sim_trace_model2_inc).min().values()"
   ]
  },
  {
   "attachments": {},
   "cell_type": "markdown",
   "id": "9c960ca0-ecd8-4fba-b9da-021b400e463a",
   "metadata": {},
   "source": [
    "### Create and save plots"
   ]
  },
  {
   "attachments": {},
   "cell_type": "markdown",
   "id": "b8001626-5f40-41aa-a293-1f2b84d26c9b",
   "metadata": {},
   "source": [
    "### Block-group level plot"
   ]
  },
  {
   "cell_type": "code",
   "execution_count": 19,
   "id": "e1f9a77d-8d36-4f7e-98d6-c1be5cfc74c0",
   "metadata": {},
   "outputs": [
    {
     "name": "stderr",
     "output_type": "stream",
     "text": [
      "/var/folders/d5/5428vcvx0rx9nfq5d27_n2680000gn/T/ipykernel_40210/636900588.py:4: MatplotlibDeprecationWarning: The get_cmap function was deprecated in Matplotlib 3.7 and will be removed two minor releases later. Use ``matplotlib.colormaps[name]`` or ``matplotlib.colormaps.get_cmap(obj)`` instead.\n",
      "  cmap = plt.cm.get_cmap('Dark2')\n"
     ]
    },
    {
     "data": {
      "image/png": "[encoded data removed]",
      "text/plain": [
       "<Figure size 1000x600 with 14 Axes>"
      ]
     },
     "metadata": {},
     "output_type": "display_data"
    }
   ],
   "source": [
    "# View estimated call-for-service rates by block group\n",
    "CBG_letters = ['A', 'B','C', 'D', 'F', 'E', 'G']\n",
    "\n",
    "cmap = plt.cm.get_cmap('Dark2')\n",
    "color0 = cmap(0)\n",
    "color1 = cmap(1)\n",
    "color2 = cmap(5)\n",
    "color3 = cmap(7)\n",
    "kde_alpha=0.8\n",
    "\n",
    "percentiles = [2.5, 97.5]\n",
    "b_1 = sim_trace_model2[\"posterior\"][\"b_1\"].stack(all_draws=[\"chain\", \"draw\"]).values\n",
    "b_2 = sim_trace_model2[\"posterior\"][\"b_2\"].stack(all_draws=[\"chain\", \"draw\"]).values\n",
    "\n",
    "b_1_inc = sim_trace_model2_inc[\"posterior\"][\"b_1\"].stack(all_draws=[\"chain\", \"draw\"]).values\n",
    "b_2_inc = sim_trace_model2_inc[\"posterior\"][\"b_2\"].stack(all_draws=[\"chain\", \"draw\"]).values\n",
    "\n",
    "\n",
    "fig, axes = plt.subplots(num_precincts, 2, figsize=(10,6))\n",
    "\n",
    "#THe indexing is a little funny here because we want the ordering\n",
    "# be alphabetical, but the data is ordered by rows ABCDFEG (not in order)\n",
    "for plot_idx, row_idx in zip([0,1,2,3,4,5,6], [0,1,2,3,5,4,6]):\n",
    "    ax = axes[plot_idx,0]\n",
    "    sns.kdeplot(b_1[row_idx],ax=ax, fill=True,label=\"White\", color=color0, alpha=kde_alpha)\n",
    "    sns.kdeplot(b_2[row_idx],ax=ax, fill=True, label=\"Non-white\",color=color1, alpha=kde_alpha)\n",
    "    ax.set_xlim((0,3))\n",
    "    ax.set_ylabel(f\"CBG {CBG_letters[row_idx]}\",rotation=0, labelpad=18)\n",
    "    ax.set_yticks([])\n",
    "    if plot_idx != num_precincts-1:\n",
    "        ax.set_xticks([])\n",
    "\n",
    "    \n",
    "    ax = axes[row_idx,1]\n",
    "    sns.kdeplot(b_1_inc[plot_idx],ax=ax, fill=True,label=\"Low income\", color=color2, alpha=kde_alpha)\n",
    "    sns.kdeplot(b_2_inc[plot_idx],ax=ax, fill=True, label=\"Non-low income\",color=color3, alpha=kde_alpha)\n",
    "    ax.set_xlim((0,3))\n",
    "    ax.set_yticks([])\n",
    "    ax.set_ylabel(\"\")\n",
    "\n",
    "\n",
    "    if plot_idx != num_precincts-1:\n",
    "        ax.set_xticks([])\n",
    "\n",
    "axes[6,0].set_xlabel(\"calls per person\")\n",
    "axes[6,1].set_xlabel(\"calls per person\")\n",
    "    \n",
    "axes[0,0].set_title(\"Estimated rates of call for service by CBG \\n and race\")\n",
    "axes[0,1].set_title(\"Estimated rates of call for service by CBG \\n and income\")\n",
    "axes[0,0].legend(loc='upper left')\n",
    "axes[0,1].legend(loc='upper left')\n",
    "\n",
    "\n",
    "fig.savefig(\"CBG_rate_ests.png\", bbox_inches='tight')\n",
    "\n",
    "plt.show()"
   ]
  },
  {
   "attachments": {},
   "cell_type": "markdown",
   "id": "ab5588e0-8f5e-4426-a260-b8f8c98205a3",
   "metadata": {},
   "source": [
    "### Aggregated plot"
   ]
  },
  {
   "cell_type": "code",
   "execution_count": 20,
   "id": "6f7af039-5ecf-4934-bf7d-05d1a479b3a7",
   "metadata": {},
   "outputs": [
    {
     "data": {
      "image/png": "[encoded data removed]",
      "text/plain": [
       "<Figure size 1200x400 with 2 Axes>"
      ]
     },
     "metadata": {},
     "output_type": "display_data"
    },
    {
     "name": "stdout",
     "output_type": "stream",
     "text": [
      "White: 0.46890563868657537, [0.35097796 0.55433355] \n",
      "non-White: 0.12142666041002638, [0.0383347  0.23843011] \n",
      "Low income: 0.1539898150890677, [0.04683534 0.29832048] \n",
      "non-low income: 0.43646319797466276, [0.29199446 0.54463688] \n"
     ]
    }
   ],
   "source": [
    "call_rate_white_aggregated = (b_1.T * num_white ).sum(axis=1) / p.sum() # samples\n",
    "call_rate_non_white_aggregated = (b_2.T * num_non_white).sum(axis=1) / p.sum() #samples\n",
    "\n",
    "call_rate_low_inc_aggregated = (b_1_inc.T * num_low_inc ).sum(axis=1) / p.sum() # samples\n",
    "call_rate_non_low_inc_aggregated = (b_2_inc.T * num_non_low_inc).sum(axis=1) / p.sum() #samples\n",
    "\n",
    "\n",
    "fig, axes = plt.subplots(1,2, figsize=(12,4))\n",
    "\n",
    "ax = axes[0]\n",
    "sns.kdeplot(call_rate_white_aggregated,ax=ax, fill=True,label=\"White\", color=color0, alpha=kde_alpha)\n",
    "sns.kdeplot(call_rate_non_white_aggregated, ax=ax, fill=True, label=\"Non-white\", color=color1, alpha=kde_alpha)\n",
    "ax.set_yticks([])\n",
    "ax.axvspan(np.percentile(call_rate_white_aggregated, percentiles)[0], np.percentile(call_rate_white_aggregated, percentiles)[1], color= color0, alpha = .2, zorder = 0)\n",
    "ax.axvspan(np.percentile(call_rate_non_white_aggregated, percentiles)[0], np.percentile(call_rate_non_white_aggregated, percentiles)[1], color= color1, alpha = .2, zorder = 0)\n",
    "ax.set_xlabel(\"calls per person\")\n",
    "\n",
    "ax.set_title(\"Estimated rates of call for service \\n by race\")\n",
    "ax.legend(loc='lower right')\n",
    "\n",
    "ax = axes[1]\n",
    "sns.kdeplot(call_rate_low_inc_aggregated,ax=ax, fill=True,label=\"Low income\", color=color2, alpha=kde_alpha)\n",
    "sns.kdeplot(call_rate_non_low_inc_aggregated, ax=ax, fill=True, label=\"Non-low income\", color=color3, alpha=kde_alpha)\n",
    "ax.set_yticks([])\n",
    "ax.set_title(\"Estimated rates of call for service \\n by income\")\n",
    "ax.legend(loc='lower right')\n",
    "ax.axvspan(np.percentile(call_rate_low_inc_aggregated, percentiles)[0], np.percentile(call_rate_low_inc_aggregated, percentiles)[1], color= color2, alpha = .2, zorder = 0)\n",
    "ax.axvspan(np.percentile(call_rate_non_low_inc_aggregated, percentiles)[0], np.percentile(call_rate_non_low_inc_aggregated, percentiles)[1], color= color3, alpha = .2, zorder = 0)\n",
    "ax.set_xlabel(\"calls per person\")\n",
    "\n",
    "fig.savefig(\"Aggregated_rate_ests.png\")\n",
    "plt.show()\n",
    "\n",
    "print(f\"White: {call_rate_white_aggregated.mean()}, {np.percentile(call_rate_white_aggregated, percentiles)} \")\n",
    "print(f\"non-White: {call_rate_non_white_aggregated.mean()}, {np.percentile(call_rate_non_white_aggregated, percentiles)} \")\n",
    "print(f\"Low income: {call_rate_low_inc_aggregated.mean()}, {np.percentile(call_rate_low_inc_aggregated, percentiles)} \")\n",
    "print(f\"non-low income: {call_rate_non_low_inc_aggregated.mean()}, {np.percentile(call_rate_non_low_inc_aggregated, percentiles)} \")\n",
    "\n"
   ]
  },
  {
   "cell_type": "code",
   "execution_count": null,
   "id": "245481cc-c8a7-4dd3-a116-97e0ffaf1bdf",
   "metadata": {},
   "outputs": [],
   "source": []
  },
  {
   "attachments": {},
   "cell_type": "markdown",
   "id": "6c9fb5d6",
   "metadata": {},
   "source": [
    "# The Regression Problem\n",
    "We propose to solve the following regression equation\n",
    "\n",
    "$$\n",
    "C_i = r_g \\cdot p_i \\cdot X_i + r_0 \\cdot p_i \\cdot (1-X_i)\n",
    "$$\n",
    "\n",
    "where $C_i$ is the number of calls for service in CBG$_i$, $p_i$ is the population of CBG$_i$, and $X_i$ is the proportion of residents from demographic group $g$ in CBG $i$. In this model, we are solving the for coefficients $r_g$, the _in-group rate of calls for service_ and $r_0$, the _out-group rate of calls for service_.  Before solving, we will normalize the equation as follows,\n",
    "\n",
    "$$\n",
    "\\frac{C_i}{p_i\\cdot m} =  \\frac{r_g}{m} \\cdot X_i + \\frac{r_0}{m} \\cdot (1-X_i)\n",
    "$$\n",
    "\n",
    "for a normalizing contstant $m$ defined below.  Then using the tools of PyEi we can solve \n",
    "\n",
    "$$\n",
    "Y_i = \\beta^g \\cdot X_i + \\beta^0 \\cdot (1- X_i)\n",
    "$$\n",
    "in the usual way, where \n",
    "\n",
    "\\begin{eqnarray*}\n",
    "Y_i =  \\frac{C_i}{p_i\\cdot m}\\,\\,\\,\\text{ and }\\,\\,\\,\n",
    "\\beta^g & = & \\frac{r_g}{m}\\,\\,\\,\\text{ and }\\,\\,\\,\n",
    "\\beta^0 & = & \\frac{r_0}{m}.\n",
    "\\end{eqnarray*}\n"
   ]
  },
  {
   "cell_type": "code",
   "execution_count": 21,
   "id": "4340646b",
   "metadata": {},
   "outputs": [
    {
     "data": {
      "text/plain": [
       "array([1074, 1031,  408,  206,  406,  576,  731])"
      ]
     },
     "execution_count": 21,
     "metadata": {},
     "output_type": "execute_result"
    }
   ],
   "source": [
    "# Number of calls by CBG\n",
    "C = (np.array(data[\"tot_count_pre\"]) - np.array(data[\"init_count_pre\"])) \n",
    "C"
   ]
  },
  {
   "cell_type": "code",
   "execution_count": 22,
   "id": "33658ff9",
   "metadata": {},
   "outputs": [
    {
     "data": {
      "text/plain": [
       "array([ 478, 1212, 2109,  676, 1137, 1044,  858])"
      ]
     },
     "execution_count": 22,
     "metadata": {},
     "output_type": "execute_result"
    }
   ],
   "source": [
    "# Number of people by CBG\n",
    "p = data[\"pop\"].values\n",
    "p"
   ]
  },
  {
   "attachments": {},
   "cell_type": "markdown",
   "id": "3ac0fd97-b29f-453c-92c0-35686ff4c50a",
   "metadata": {},
   "source": [
    "## Analysis by Race\n",
    "\n",
    "We will first example white and non-white citizen cohorts."
   ]
  },
  {
   "cell_type": "code",
   "execution_count": 23,
   "id": "d7646019",
   "metadata": {},
   "outputs": [
    {
     "data": {
      "text/plain": [
       "array([0.9707, 0.8523, 0.7112, 0.8314, 0.6456, 0.818 , 0.9266])"
      ]
     },
     "execution_count": 23,
     "metadata": {},
     "output_type": "execute_result"
    }
   ],
   "source": [
    "# Proportion of white residents by CBG.\n",
    "X_race = np.array((data[\"race_w\"]/100))\n",
    "X_race"
   ]
  },
  {
   "cell_type": "code",
   "execution_count": 24,
   "id": "607fdece",
   "metadata": {},
   "outputs": [
    {
     "data": {
      "text/plain": [
       "array([ 463.9946, 1032.9876, 1499.9208,  562.0264,  734.0472,  853.992 ,\n",
       "        795.0228])"
      ]
     },
     "execution_count": 24,
     "metadata": {},
     "output_type": "execute_result"
    }
   ],
   "source": [
    "# Number of white residents by CBG.\n",
    "num_white = X_race * data[\"pop\"].values\n",
    "num_white"
   ]
  },
  {
   "cell_type": "code",
   "execution_count": 25,
   "id": "773786cb",
   "metadata": {},
   "outputs": [
    {
     "data": {
      "text/plain": [
       "array([0.0293, 0.1477, 0.2888, 0.1686, 0.3544, 0.182 , 0.0734])"
      ]
     },
     "execution_count": 25,
     "metadata": {},
     "output_type": "execute_result"
    }
   ],
   "source": [
    "# Proportion of non-white residents by CBG.\n",
    "1-X_race"
   ]
  },
  {
   "cell_type": "code",
   "execution_count": 26,
   "id": "463d79b9",
   "metadata": {},
   "outputs": [
    {
     "data": {
      "text/plain": [
       "array([ 14.0054, 179.0124, 609.0792, 113.9736, 402.9528, 190.008 ,\n",
       "        62.9772])"
      ]
     },
     "execution_count": 26,
     "metadata": {},
     "output_type": "execute_result"
    }
   ],
   "source": [
    "# Number of non-white residents by CBG.\n",
    "num_non_white = (1-X_race)*data[\"pop\"].values\n",
    "num_non_white"
   ]
  },
  {
   "cell_type": "code",
   "execution_count": 27,
   "id": "3a9f78c8",
   "metadata": {},
   "outputs": [
    {
     "data": {
      "text/plain": [
       "76.68470732717353"
      ]
     },
     "execution_count": 27,
     "metadata": {},
     "output_type": "execute_result"
    }
   ],
   "source": [
    "# # Normalizing Constant\n",
    "max_calls = max(C)\n",
    "min_pop = min(np.concatenate([num_white, num_non_white]))\n",
    "m_race = max_calls / min_pop\n",
    "m_race"
   ]
  },
  {
   "cell_type": "code",
   "execution_count": 28,
   "id": "6ae456fa",
   "metadata": {},
   "outputs": [
    {
     "data": {
      "text/plain": [
       "array([0.0293    , 0.01109296, 0.00252275, 0.00397385, 0.00465647,\n",
       "       0.00719471, 0.01111019])"
      ]
     },
     "execution_count": 28,
     "metadata": {},
     "output_type": "execute_result"
    }
   ],
   "source": [
    "# Normalized call rate by CBG\n",
    "Y_race = (m_race ** -1) * np.array(C / data[\"pop\"])\n",
    "Y_race"
   ]
  },
  {
   "cell_type": "code",
   "execution_count": 29,
   "id": "2feb9b46",
   "metadata": {},
   "outputs": [
    {
     "data": {
      "text/plain": [
       "'white'"
      ]
     },
     "execution_count": 29,
     "metadata": {},
     "output_type": "execute_result"
    }
   ],
   "source": [
    "demographic_group_name = \"white\"\n",
    "demographic_group_name "
   ]
  },
  {
   "cell_type": "code",
   "execution_count": 30,
   "id": "ca26c777-0c2b-411c-b4c7-d1d27483fed7",
   "metadata": {},
   "outputs": [],
   "source": [
    "precinct_pops = np.array(data[\"pop\"])\n",
    "demographic_group_name = \"white\"\n",
    "candidate_name = \"Calls for Service\"\n",
    "precinct_names = list(data.index)"
   ]
  },
  {
   "cell_type": "code",
   "execution_count": 31,
   "id": "31ec93f0",
   "metadata": {},
   "outputs": [],
   "source": [
    "df_race = pd.DataFrame()\n",
    "df_race[\"Percentage white\"] = X_race\n",
    "df_race[\"Call for service rate\"] = Y_race"
   ]
  },
  {
   "cell_type": "code",
   "execution_count": 32,
   "id": "41833b51-4ee6-4681-b459-dedee3625bb2",
   "metadata": {},
   "outputs": [
    {
     "name": "stdout",
     "output_type": "stream",
     "text": [
      "Compiling...\n"
     ]
    },
    {
     "name": "stderr",
     "output_type": "stream",
     "text": [
      "/Users/karin/miniconda3/envs/police/lib/python3.11/site-packages/tqdm/auto.py:21: TqdmWarning: IProgress not found. Please update jupyter and ipywidgets. See https://ipywidgets.readthedocs.io/en/stable/user_install.html\n",
      "  from .autonotebook import tqdm as notebook_tqdm\n",
      "/Users/karin/miniconda3/envs/police/lib/python3.11/site-packages/pymc/aesaraf.py:996: UserWarning: The parameter 'updates' of aesara.function() expects an OrderedDict, got <class 'dict'>. Using a standard dictionary here results in non-deterministic behavior. You should use an OrderedDict if you are using Python 2.7 (collections.OrderedDict for older python), or use a list of (shared, update) pairs. Do not just convert your dictionary to this type before the call as the conversion will still be non-deterministic.\n",
      "  aesara_function = aesara.function(\n"
     ]
    },
    {
     "name": "stdout",
     "output_type": "stream",
     "text": [
      "Compilation time =  0:00:01.212512\n",
      "Sampling...\n"
     ]
    },
    {
     "name": "stderr",
     "output_type": "stream",
     "text": [
      "Compiling.. :   0%|          | 0/4200 [00:00<?, ?it/s]\n",
      "\u001b[A\n",
      "\u001b[A\n",
      "\n",
      "\u001b[A\u001b[A\n",
      "\n",
      "\u001b[A\u001b[A\n",
      "\n",
      "Running chain 0:   0%|          | 0/4200 [00:02<?, ?it/s]\n",
      "\u001b[A\n",
      "\n",
      "Running chain 0:  10%|█         | 420/4200 [00:02<00:01, 2964.34it/s]\n",
      "\u001b[A\n",
      "\n",
      "\u001b[A\u001b[A\n",
      "\u001b[A\n",
      "\n",
      "Running chain 0:  15%|█▌        | 630/4200 [00:02<00:02, 1387.59it/s]\n",
      "\u001b[A\n",
      "\n",
      "\u001b[A\u001b[A\n",
      "\n",
      "\u001b[A\u001b[A\n",
      "Running chain 0:  20%|██        | 840/4200 [00:02<00:03, 1036.05it/s]\n",
      "\n",
      "Running chain 0:  30%|███       | 1260/4200 [00:02<00:01, 1574.53it/s]\n",
      "\n",
      "\u001b[A\u001b[A\n",
      "\u001b[A\n",
      "\n",
      "Running chain 0:  40%|████      | 1680/4200 [00:03<00:01, 1756.06it/s]\n",
      "\u001b[A\n",
      "\n",
      "Running chain 0:  50%|█████     | 2100/4200 [00:03<00:00, 2228.02it/s]\n",
      "Running chain 0:  60%|██████    | 2520/4200 [00:03<00:00, 2521.75it/s]\n",
      "\n",
      "Running chain 0:  70%|███████   | 2940/4200 [00:03<00:00, 2846.12it/s]\n",
      "Running chain 0:  80%|████████  | 3360/4200 [00:03<00:00, 2883.57it/s]\n",
      "Running chain 0:  90%|█████████ | 3780/4200 [00:03<00:00, 2860.42it/s]\n",
      "Running chain 0: 100%|██████████| 4200/4200 [00:04<00:00, 926.23it/s] \n",
      "Running chain 1: 100%|██████████| 4200/4200 [00:04<00:00, 926.35it/s] \n",
      "Running chain 2: 100%|██████████| 4200/4200 [00:04<00:00, 926.53it/s] \n",
      "Running chain 3: 100%|██████████| 4200/4200 [00:04<00:00, 926.71it/s] \n"
     ]
    },
    {
     "name": "stdout",
     "output_type": "stream",
     "text": [
      "Sampling time =  0:00:04.873366\n",
      "Transforming variables...\n",
      "Transformation time =  0:00:00.050005\n",
      "Model: king99_pareto_modification\n",
      "        Computed from the raw b_i samples by multiplying by population and then getting\n",
      "        the proportion of the total pop (total pop=summed across all districts):\n",
      "        The posterior mean for the district-level voting preference of\n",
      "        white for Calls for Service is\n",
      "        0.006\n",
      "        The posterior mean for the district-level voting preference of\n",
      "        non-white for Calls for Service is\n",
      "        0.018\n",
      "        95% equal-tailed Bayesian credible interval for district-level voting preference of\n",
      "        white for Calls for Service is\n",
      "        [0.00169187 0.01013624]\n",
      "        95% equal-tailed Bayesian credible interval for district-level voting preference of\n",
      "        non-white for Calls for Service is\n",
      "        [5.69549679e-05 4.47010059e-02]\n",
      "        \n"
     ]
    }
   ],
   "source": [
    "#Fitting a first 2 x 2 model\n",
    "\n",
    "#Create a TwobyTwoEI object\n",
    "ei_race = pyei.TwoByTwoEI(model_name=\"king99_pareto_modification\", pareto_scale=15, pareto_shape=2)\n",
    "\n",
    "# Fit the model\n",
    "ei_race.fit(group_fraction = X_race, \n",
    "       votes_fraction = Y_race, \n",
    "       precinct_pops = precinct_pops, \n",
    "       demographic_group_name=demographic_group_name , \n",
    "       candidate_name=candidate_name, \n",
    "       precinct_names=precinct_names, \n",
    "       draws=1200, # optional\n",
    "       tune=3000, # optional\n",
    "       target_accept=.99, # optional,\n",
    "       random_seed=614\n",
    ")\n",
    "\n",
    "# Generate a simple report to summarize the results\n",
    "print(ei_race.summary())"
   ]
  },
  {
   "cell_type": "code",
   "execution_count": 33,
   "id": "76992d74",
   "metadata": {},
   "outputs": [
    {
     "name": "stdout",
     "output_type": "stream",
     "text": [
      "The posterior mean belief for white is 0.44 with 95% credible interval [0.13, 0.78].\n",
      "\n",
      "The posterior mean belief for non-white is 1.37 with 95% credible interval [0.0, 3.43].\n"
     ]
    }
   ],
   "source": [
    "means = np.array(ei_race.posterior_mean_voting_prefs) * m_race\n",
    "cred_int = np.array(ei_race.credible_interval_95_mean_voting_prefs) * m_race\n",
    "\n",
    "m = np.around(means[0], decimals = 2)\n",
    "c = [np.around(i, decimals = 2) for i in cred_int[0]]\n",
    "print(f\"The posterior mean belief for white is {m} with 95% credible interval {c}.\")\n",
    "\n",
    "m = np.around(means[1], decimals = 2)\n",
    "c = [np.around(i, decimals = 2) for i in cred_int[1]]\n",
    "print(\"\")\n",
    "print(f\"The posterior mean belief for non-white is {m} with 95% credible interval {c}.\")"
   ]
  },
  {
   "cell_type": "code",
   "execution_count": 34,
   "id": "b211d2c9-df12-4782-860e-523d1e723835",
   "metadata": {},
   "outputs": [
    {
     "name": "stdout",
     "output_type": "stream",
     "text": [
      "Goodmans ER, weighted by population\n",
      "        Est. fraction of white\n",
      "        voters who voted for Calls for Service is\n",
      "        0.018\n",
      "        Est. fraction of non- white\n",
      "        voters who voted for Calls for Service is\n",
      "        -0.032\n",
      "        \n"
     ]
    }
   ],
   "source": [
    "# Fitting Goodman's ER - precincts weighted by population\n",
    "race_goodmans_er = pyei.GoodmansER(is_weighted_regression=\"True\")\n",
    "\n",
    "race_goodmans_er.fit(group_fraction = X_race, \n",
    "    vote_fraction = Y_race,\n",
    "    precinct_pops = precinct_pops, # Must include populations if weighting by population\n",
    "    demographic_group_name=demographic_group_name, \n",
    "    candidate_name=candidate_name\n",
    ")\n",
    "\n",
    "print(race_goodmans_er.summary())"
   ]
  },
  {
   "cell_type": "code",
   "execution_count": 35,
   "id": "85e8f72f",
   "metadata": {},
   "outputs": [
    {
     "data": {
      "text/plain": [
       "3.842159456433298"
      ]
     },
     "execution_count": 35,
     "metadata": {},
     "output_type": "execute_result"
    }
   ],
   "source": [
    "race_slope = m_race * float(race_goodmans_er.slope_)\n",
    "race_intercept = m_race * float(race_goodmans_er.intercept_)\n",
    "\n",
    "race_slope"
   ]
  },
  {
   "cell_type": "code",
   "execution_count": 36,
   "id": "8dd36c51",
   "metadata": {},
   "outputs": [
    {
     "data": {
      "text/plain": [
       "array([0.9707, 0.8523, 0.7112, 0.8314, 0.6456, 0.818 , 0.9266])"
      ]
     },
     "execution_count": 36,
     "metadata": {},
     "output_type": "execute_result"
    }
   ],
   "source": [
    "X_race"
   ]
  },
  {
   "cell_type": "code",
   "execution_count": 37,
   "id": "2edb4097",
   "metadata": {},
   "outputs": [
    {
     "data": {
      "text/plain": [
       "array([0.0293    , 0.01109296, 0.00252275, 0.00397385, 0.00465647,\n",
       "       0.00719471, 0.01111019])"
      ]
     },
     "execution_count": 37,
     "metadata": {},
     "output_type": "execute_result"
    }
   ],
   "source": [
    "Y_race"
   ]
  },
  {
   "cell_type": "code",
   "execution_count": 38,
   "id": "2f9bea9f-966c-41de-8326-d0ac459c5b05",
   "metadata": {},
   "outputs": [
    {
     "name": "stderr",
     "output_type": "stream",
     "text": [
      "Auto-assigning NUTS sampler...\n",
      "Initializing NUTS using jitter+adapt_diag...\n",
      "/Users/karin/miniconda3/envs/police/lib/python3.11/site-packages/pymc/aesaraf.py:996: UserWarning: The parameter 'updates' of aesara.function() expects an OrderedDict, got <class 'dict'>. Using a standard dictionary here results in non-deterministic behavior. You should use an OrderedDict if you are using Python 2.7 (collections.OrderedDict for older python), or use a list of (shared, update) pairs. Do not just convert your dictionary to this type before the call as the conversion will still be non-deterministic.\n",
      "  aesara_function = aesara.function(\n",
      "Multiprocess sampling (4 chains in 4 jobs)\n",
      "NUTS: [b_1, b_2, eps]\n"
     ]
    },
    {
     "data": {
      "text/html": [
       "\n",
       "<style>\n",
       "    /* Turns off some styling */\n",
       "    progress {\n",
       "        /* gets rid of default border in Firefox and Opera. */\n",
       "        border: none;\n",
       "        /* Needs to be in here for Safari polyfill so background images work as expected. */\n",
       "        background-size: auto;\n",
       "    }\n",
       "    progress:not([value]), progress:not([value])::-webkit-progress-bar {\n",
       "        background: repeating-linear-gradient(45deg, #7e7e7e, #7e7e7e 10px, #5c5c5c 10px, #5c5c5c 20px);\n",
       "    }\n",
       "    .progress-bar-interrupted, .progress-bar-interrupted::-webkit-progress-bar {\n",
       "        background: #F44336;\n",
       "    }\n",
       "</style>\n"
      ],
      "text/plain": [
       "<IPython.core.display.HTML object>"
      ]
     },
     "metadata": {},
     "output_type": "display_data"
    },
    {
     "data": {
      "text/html": [
       "\n",
       "    <div>\n",
       "      <progress value='16000' class='' max='16000' style='width:300px; height:20px; vertical-align: middle;'></progress>\n",
       "      100.00% [16000/16000 00:04&lt;00:00 Sampling 4 chains, 0 divergences]\n",
       "    </div>\n",
       "    "
      ],
      "text/plain": [
       "<IPython.core.display.HTML object>"
      ]
     },
     "metadata": {},
     "output_type": "display_data"
    },
    {
     "name": "stderr",
     "output_type": "stream",
     "text": [
      "Sampling 4 chains for 2_000 tune and 2_000 draw iterations (8_000 + 8_000 draws total) took 9 seconds.\n"
     ]
    },
    {
     "name": "stdout",
     "output_type": "stream",
     "text": [
      "Model: goodman_er_bayes\n",
      "        Computed from the raw b_i samples by multiplying by population and then getting\n",
      "        the proportion of the total pop (total pop=summed across all districts):\n",
      "        The posterior mean for the district-level voting preference of\n",
      "        white for Calls for Service is\n",
      "        0.008\n",
      "        The posterior mean for the district-level voting preference of\n",
      "        non-white for Calls for Service is\n",
      "        0.012\n",
      "        95% equal-tailed Bayesian credible interval for district-level voting preference of\n",
      "        white for Calls for Service is\n",
      "        [0.00068052 0.01824683]\n",
      "        95% equal-tailed Bayesian credible interval for district-level voting preference of\n",
      "        non-white for Calls for Service is\n",
      "        [0.00022292 0.04537361]\n",
      "        \n"
     ]
    }
   ],
   "source": [
    "# NOTE: we've modified the source code here to set the prior distribution of the call rates b_1 to uniform (0,10)\n",
    "bayes_goodman_ei = pyei.GoodmansERBayes(\"goodman_er_bayes\", weighted_by_pop=True, sigma=1)\n",
    "\n",
    "bayes_goodman_ei.fit(\n",
    "    group_fraction = X_race, \n",
    "    votes_fraction = Y_race,\n",
    "    precinct_pops = precinct_pops,\n",
    "    demographic_group_name=demographic_group_name, \n",
    "    candidate_name=candidate_name,\n",
    "    random_seed=614,\n",
    "    tune=2000,\n",
    "    target_accept=0.995,\n",
    ")\n",
    "\n",
    "print(bayes_goodman_ei.summary())"
   ]
  },
  {
   "cell_type": "code",
   "execution_count": 39,
   "id": "ae17b00f",
   "metadata": {},
   "outputs": [
    {
     "name": "stdout",
     "output_type": "stream",
     "text": [
      "max rhat <xarray.Dataset>\n",
      "Dimensions:  ()\n",
      "Data variables:\n",
      "    b_1      float64 1.001\n",
      "    b_2      float64 1.002\n",
      "    eps      float64 1.002\n",
      "min ess <xarray.Dataset>\n",
      "Dimensions:  ()\n",
      "Data variables:\n",
      "    b_1      float64 1.746e+03\n",
      "    b_2      float64 1.729e+03\n",
      "    eps      float64 2.28e+03\n"
     ]
    }
   ],
   "source": [
    "print(f'max rhat {(az.rhat(bayes_goodman_ei.sim_trace).max())}')\n",
    "print(f'min ess {az.ess(bayes_goodman_ei.sim_trace).max()}')"
   ]
  },
  {
   "cell_type": "code",
   "execution_count": null,
   "id": "af7abdce",
   "metadata": {},
   "outputs": [],
   "source": []
  },
  {
   "cell_type": "code",
   "execution_count": null,
   "id": "83b662ef",
   "metadata": {},
   "outputs": [],
   "source": []
  },
  {
   "cell_type": "code",
   "execution_count": null,
   "id": "f6b77af0",
   "metadata": {},
   "outputs": [],
   "source": []
  },
  {
   "cell_type": "code",
   "execution_count": null,
   "id": "b6ad5891",
   "metadata": {},
   "outputs": [],
   "source": []
  },
  {
   "cell_type": "code",
   "execution_count": null,
   "id": "d5fe6fc6",
   "metadata": {},
   "outputs": [],
   "source": []
  },
  {
   "cell_type": "code",
   "execution_count": null,
   "id": "2c9382a3",
   "metadata": {},
   "outputs": [],
   "source": []
  },
  {
   "cell_type": "code",
   "execution_count": 40,
   "id": "02be43df-d6ee-49b0-ad80-1b147a05b77b",
   "metadata": {},
   "outputs": [],
   "source": [
    "#ei_race.plot_kde()"
   ]
  },
  {
   "cell_type": "code",
   "execution_count": 41,
   "id": "9bd7eaa6-0857-4aa7-a70e-9066ba473616",
   "metadata": {},
   "outputs": [],
   "source": [
    "#ei_race.plot_polarization_kde(percentile=95, show_threshold=True)"
   ]
  },
  {
   "cell_type": "code",
   "execution_count": null,
   "id": "07ef6edd",
   "metadata": {},
   "outputs": [],
   "source": []
  },
  {
   "attachments": {},
   "cell_type": "markdown",
   "id": "84ada05e-896c-4a09-9f0a-ddc49f2b5e5c",
   "metadata": {},
   "source": [
    "## Analysis by Income Level\n",
    "\n",
    "They do, however, have the ratio of income to poverty level. Many programs use income as a percent of poverty level as a threshold, like 130% for SNAP and 200% for others like prioritized childcare, so I included the percent of people living above 200% (`incpov_2_`) and below 200% (`incpov__2`). Note that the number of people for whom this data is available is a lot lower than the total number of people in the CBGS for the school (the attached Excel sheet has the raw data on these), so it might not capture the entire population. I’ve also included the per capita income (`incpercap`) from the Census, should you decide to use that instead. The federal poverty line is evidently outdated, and many programs and states now use a relative % of median income for the state/area, but I haven’t found that data from the Census.  "
   ]
  },
  {
   "cell_type": "code",
   "execution_count": 42,
   "id": "92f87409-04d3-4d1a-b7b0-66e787be0034",
   "metadata": {},
   "outputs": [
    {
     "data": {
      "text/html": [
       "<div>\n",
       "<style scoped>\n",
       "    .dataframe tbody tr th:only-of-type {\n",
       "        vertical-align: middle;\n",
       "    }\n",
       "\n",
       "    .dataframe tbody tr th {\n",
       "        vertical-align: top;\n",
       "    }\n",
       "\n",
       "    .dataframe thead th {\n",
       "        text-align: right;\n",
       "    }\n",
       "</style>\n",
       "<table border=\"1\" class=\"dataframe\">\n",
       "  <thead>\n",
       "    <tr style=\"text-align: right;\">\n",
       "      <th></th>\n",
       "      <th>GEOID10</th>\n",
       "      <th>pop</th>\n",
       "      <th>race_w</th>\n",
       "      <th>race_b</th>\n",
       "      <th>hhinc</th>\n",
       "      <th>incpercap</th>\n",
       "      <th>incpov_2_</th>\n",
       "      <th>incpov__2</th>\n",
       "      <th>init_count_pre</th>\n",
       "      <th>init_day_pre</th>\n",
       "      <th>tot_count_pre</th>\n",
       "      <th>tot_day_pre</th>\n",
       "      <th>init_p_pre</th>\n",
       "      <th>init_count_covid</th>\n",
       "      <th>init_day_covid</th>\n",
       "      <th>tot_count_covid</th>\n",
       "      <th>tot_day_covid</th>\n",
       "      <th>init_p_covid</th>\n",
       "    </tr>\n",
       "  </thead>\n",
       "  <tbody>\n",
       "    <tr>\n",
       "      <th>0</th>\n",
       "      <td>250039201011</td>\n",
       "      <td>478</td>\n",
       "      <td>97.07</td>\n",
       "      <td>0.00</td>\n",
       "      <td>83667</td>\n",
       "      <td>73312</td>\n",
       "      <td>90.17</td>\n",
       "      <td>9.83</td>\n",
       "      <td>2815</td>\n",
       "      <td>7.019950</td>\n",
       "      <td>3889</td>\n",
       "      <td>9.698254</td>\n",
       "      <td>72.383646</td>\n",
       "      <td>482</td>\n",
       "      <td>2.190909</td>\n",
       "      <td>945</td>\n",
       "      <td>4.295455</td>\n",
       "      <td>51.005291</td>\n",
       "    </tr>\n",
       "    <tr>\n",
       "      <th>1</th>\n",
       "      <td>250039201012</td>\n",
       "      <td>1212</td>\n",
       "      <td>85.23</td>\n",
       "      <td>4.04</td>\n",
       "      <td>77604</td>\n",
       "      <td>42620</td>\n",
       "      <td>77.56</td>\n",
       "      <td>22.44</td>\n",
       "      <td>2161</td>\n",
       "      <td>5.389027</td>\n",
       "      <td>3192</td>\n",
       "      <td>7.960100</td>\n",
       "      <td>67.700501</td>\n",
       "      <td>782</td>\n",
       "      <td>3.554545</td>\n",
       "      <td>1373</td>\n",
       "      <td>6.240909</td>\n",
       "      <td>56.955572</td>\n",
       "    </tr>\n",
       "    <tr>\n",
       "      <th>2</th>\n",
       "      <td>250039201013</td>\n",
       "      <td>2109</td>\n",
       "      <td>71.12</td>\n",
       "      <td>7.02</td>\n",
       "      <td>105913</td>\n",
       "      <td>21587</td>\n",
       "      <td>89.16</td>\n",
       "      <td>10.84</td>\n",
       "      <td>1524</td>\n",
       "      <td>3.800499</td>\n",
       "      <td>1932</td>\n",
       "      <td>4.817955</td>\n",
       "      <td>78.881988</td>\n",
       "      <td>63</td>\n",
       "      <td>0.286364</td>\n",
       "      <td>231</td>\n",
       "      <td>1.050000</td>\n",
       "      <td>27.272727</td>\n",
       "    </tr>\n",
       "    <tr>\n",
       "      <th>3</th>\n",
       "      <td>250039201014</td>\n",
       "      <td>676</td>\n",
       "      <td>83.14</td>\n",
       "      <td>0.00</td>\n",
       "      <td>66944</td>\n",
       "      <td>35319</td>\n",
       "      <td>68.20</td>\n",
       "      <td>31.80</td>\n",
       "      <td>174</td>\n",
       "      <td>0.433915</td>\n",
       "      <td>380</td>\n",
       "      <td>0.947631</td>\n",
       "      <td>45.789474</td>\n",
       "      <td>14</td>\n",
       "      <td>0.063636</td>\n",
       "      <td>79</td>\n",
       "      <td>0.359091</td>\n",
       "      <td>17.721519</td>\n",
       "    </tr>\n",
       "    <tr>\n",
       "      <th>4</th>\n",
       "      <td>250039201021</td>\n",
       "      <td>1137</td>\n",
       "      <td>64.56</td>\n",
       "      <td>9.59</td>\n",
       "      <td>55167</td>\n",
       "      <td>14173</td>\n",
       "      <td>65.80</td>\n",
       "      <td>34.20</td>\n",
       "      <td>555</td>\n",
       "      <td>1.384040</td>\n",
       "      <td>961</td>\n",
       "      <td>2.396509</td>\n",
       "      <td>57.752341</td>\n",
       "      <td>12</td>\n",
       "      <td>0.054545</td>\n",
       "      <td>207</td>\n",
       "      <td>0.940909</td>\n",
       "      <td>5.797101</td>\n",
       "    </tr>\n",
       "  </tbody>\n",
       "</table>\n",
       "</div>"
      ],
      "text/plain": [
       "        GEOID10   pop  race_w  race_b   hhinc  incpercap  incpov_2_  \\\n",
       "0  250039201011   478   97.07    0.00   83667      73312      90.17   \n",
       "1  250039201012  1212   85.23    4.04   77604      42620      77.56   \n",
       "2  250039201013  2109   71.12    7.02  105913      21587      89.16   \n",
       "3  250039201014   676   83.14    0.00   66944      35319      68.20   \n",
       "4  250039201021  1137   64.56    9.59   55167      14173      65.80   \n",
       "\n",
       "   incpov__2  init_count_pre  init_day_pre  tot_count_pre  tot_day_pre  \\\n",
       "0       9.83            2815      7.019950           3889     9.698254   \n",
       "1      22.44            2161      5.389027           3192     7.960100   \n",
       "2      10.84            1524      3.800499           1932     4.817955   \n",
       "3      31.80             174      0.433915            380     0.947631   \n",
       "4      34.20             555      1.384040            961     2.396509   \n",
       "\n",
       "   init_p_pre  init_count_covid  init_day_covid  tot_count_covid  \\\n",
       "0   72.383646               482        2.190909              945   \n",
       "1   67.700501               782        3.554545             1373   \n",
       "2   78.881988                63        0.286364              231   \n",
       "3   45.789474                14        0.063636               79   \n",
       "4   57.752341                12        0.054545              207   \n",
       "\n",
       "   tot_day_covid  init_p_covid  \n",
       "0       4.295455     51.005291  \n",
       "1       6.240909     56.955572  \n",
       "2       1.050000     27.272727  \n",
       "3       0.359091     17.721519  \n",
       "4       0.940909      5.797101  "
      ]
     },
     "execution_count": 42,
     "metadata": {},
     "output_type": "execute_result"
    }
   ],
   "source": [
    "data.head()"
   ]
  },
  {
   "cell_type": "code",
   "execution_count": 43,
   "id": "1c0ab2e2",
   "metadata": {},
   "outputs": [
    {
     "data": {
      "text/plain": [
       "array([0.9017, 0.7756, 0.8916, 0.682 , 0.658 , 0.8238, 0.8505])"
      ]
     },
     "execution_count": 43,
     "metadata": {},
     "output_type": "execute_result"
    }
   ],
   "source": [
    "# Proportion of non low income residents by CBG.\n",
    "X_pov = 1 - np.array((data[\"incpov__2\"]/100))\n",
    "X_pov"
   ]
  },
  {
   "cell_type": "code",
   "execution_count": 44,
   "id": "94df4de0",
   "metadata": {},
   "outputs": [
    {
     "data": {
      "text/plain": [
       "array([ 431.0126,  940.0272, 1880.3844,  461.032 ,  748.146 ,  860.0472,\n",
       "        729.729 ])"
      ]
     },
     "execution_count": 44,
     "metadata": {},
     "output_type": "execute_result"
    }
   ],
   "source": [
    "# Number of non-low income residents by CBG.\n",
    "num_non_low_inc = X_pov*data[\"pop\"].values\n",
    "num_non_low_inc"
   ]
  },
  {
   "cell_type": "code",
   "execution_count": 45,
   "id": "868192d5",
   "metadata": {},
   "outputs": [
    {
     "data": {
      "text/plain": [
       "array([0.0983, 0.2244, 0.1084, 0.318 , 0.342 , 0.1762, 0.1495])"
      ]
     },
     "execution_count": 45,
     "metadata": {},
     "output_type": "execute_result"
    }
   ],
   "source": [
    "# Proportion of low income residents by CBG.\n",
    "1-X_pov"
   ]
  },
  {
   "cell_type": "code",
   "execution_count": 46,
   "id": "4a50a6f4",
   "metadata": {},
   "outputs": [
    {
     "data": {
      "text/plain": [
       "array([ 46.9874, 271.9728, 228.6156, 214.968 , 388.854 , 183.9528,\n",
       "       128.271 ])"
      ]
     },
     "execution_count": 46,
     "metadata": {},
     "output_type": "execute_result"
    }
   ],
   "source": [
    "# Number of non low-income residents by CBG.\n",
    "num_low_inc = (1-X_pov)*data[\"pop\"].values\n",
    "num_low_inc"
   ]
  },
  {
   "cell_type": "code",
   "execution_count": 47,
   "id": "6a4f0d97",
   "metadata": {},
   "outputs": [],
   "source": [
    "# # Normalizing Constant\n",
    "# total_lowinc_people = np.array((data[\"incpov__2\"]/100)) * np.array(data[\"pop\"])\n",
    "# total_calls = (np.array(data[\"tot_count_pre\"]) - np.array(data[\"init_count_pre\"])) \n",
    "# m_pov = max(total_calls /total_lowinc_people)\n",
    "# m_pov"
   ]
  },
  {
   "cell_type": "code",
   "execution_count": 48,
   "id": "4973df19",
   "metadata": {},
   "outputs": [
    {
     "data": {
      "text/plain": [
       "22.857191502402785"
      ]
     },
     "execution_count": 48,
     "metadata": {},
     "output_type": "execute_result"
    }
   ],
   "source": [
    "# # Normalizing Constant \n",
    "max_calls = max(C)\n",
    "min_pop = min(np.concatenate([num_low_inc, num_non_low_inc]))\n",
    "m_pov = max_calls / min_pop\n",
    "m_pov"
   ]
  },
  {
   "cell_type": "code",
   "execution_count": 49,
   "id": "c4cc1716",
   "metadata": {},
   "outputs": [
    {
     "data": {
      "text/plain": [
       "array([0.0983    , 0.0372163 , 0.00846371, 0.01333207, 0.01562222,\n",
       "       0.02413788, 0.0372741 ])"
      ]
     },
     "execution_count": 49,
     "metadata": {},
     "output_type": "execute_result"
    }
   ],
   "source": [
    "# Normalized call rate by CBG\n",
    "Y_pov = (m_pov ** -1) * np.array(C / data[\"pop\"])\n",
    "Y_pov"
   ]
  },
  {
   "cell_type": "code",
   "execution_count": 50,
   "id": "8d720ba9",
   "metadata": {},
   "outputs": [],
   "source": [
    "df_pov = pd.DataFrame()\n",
    "df_pov[\"Percentage non low income\"] = X_pov\n",
    "df_pov[\"Call for service rate\"] = Y_pov"
   ]
  },
  {
   "cell_type": "code",
   "execution_count": 51,
   "id": "27ad5336",
   "metadata": {},
   "outputs": [
    {
     "data": {
      "text/plain": [
       "'high/middle income'"
      ]
     },
     "execution_count": 51,
     "metadata": {},
     "output_type": "execute_result"
    }
   ],
   "source": [
    "demographic_group_name = \"high/middle income\"\n",
    "demographic_group_name "
   ]
  },
  {
   "cell_type": "code",
   "execution_count": 52,
   "id": "4068cf3e",
   "metadata": {},
   "outputs": [],
   "source": [
    "precinct_pops = np.array(data[\"pop\"])\n",
    "demographic_group_name = \"high/middle income\"\n",
    "candidate_name = \"Calls for Service\"\n",
    "precinct_names = list(data.index)"
   ]
  },
  {
   "cell_type": "code",
   "execution_count": 53,
   "id": "d24fb251-e18e-43a1-9759-7966612fedbb",
   "metadata": {},
   "outputs": [
    {
     "ename": "SyntaxError",
     "evalue": "invalid syntax (3777656339.py, line 1)",
     "output_type": "error",
     "traceback": [
      "\u001b[0;36m  Cell \u001b[0;32mIn[53], line 1\u001b[0;36m\u001b[0m\n\u001b[0;31m    Fitting a first 2 x 2 model\u001b[0m\n\u001b[0m            ^\u001b[0m\n\u001b[0;31mSyntaxError\u001b[0m\u001b[0;31m:\u001b[0m invalid syntax\n"
     ]
    }
   ],
   "source": [
    "Fitting a first 2 x 2 model\n",
    "\n",
    "# Create a TwobyTwoEI object\n",
    "ei_pov = pyei.TwoByTwoEI(model_name=\"king99_pareto_modification\", pareto_scale=15, pareto_shape=2)\n",
    "\n",
    "# Fit the model\n",
    "ei_pov.fit(group_fraction = X_pov, \n",
    "       votes_fraction = Y_pov, \n",
    "       precinct_pops = precinct_pops, \n",
    "       demographic_group_name=demographic_group_name, \n",
    "       candidate_name=candidate_name, \n",
    "       precinct_names=precinct_names, \n",
    "       draws=1200, # optional\n",
    "       tune=3000, # optional\n",
    "       target_accept=.99,# optional,\n",
    "       random_seed=614\n",
    ")\n",
    "\n",
    "# Generate a simple report to summarize the results\n",
    "print(ei_pov.summary())"
   ]
  },
  {
   "cell_type": "code",
   "execution_count": null,
   "id": "6e4fd242",
   "metadata": {},
   "outputs": [],
   "source": [
    "means = np.array(ei_pov.posterior_mean_voting_prefs) * m_pov\n",
    "cred_int = np.array(ei_pov.credible_interval_95_mean_voting_prefs) * m_pov\n",
    "\n",
    "m = np.around(means[0], decimals = 2)\n",
    "c = [np.around(i, decimals = 2) for i in cred_int[0]]\n",
    "print(f\"The posterior mean belief for high/middle-income is {m} with 95% credible interval {c}.\")\n",
    "\n",
    "m = np.around(means[1], decimals = 2)\n",
    "c = [np.around(i, decimals = 2) for i in cred_int[1]]\n",
    "print(\"\")\n",
    "print(f\"The posterior mean belief for low-income is {m} with 95% credible interval {c}.\")"
   ]
  },
  {
   "cell_type": "code",
   "execution_count": null,
   "id": "44d64fb5-bdfe-4837-980c-5654b86dff6f",
   "metadata": {},
   "outputs": [
    {
     "name": "stdout",
     "output_type": "stream",
     "text": [
      "Goodmans ER, weighted by population\n",
      "        Est. fraction of high/middle income\n",
      "        voters who voted for Calls for Service is\n",
      "        0.036\n",
      "        Est. fraction of non- high/middle income\n",
      "        voters who voted for Calls for Service is\n",
      "        -0.015\n",
      "        \n"
     ]
    }
   ],
   "source": [
    "# Fitting Goodman's ER - precincts weighted by population\n",
    "pov_goodmans_er = pyei.GoodmansER(is_weighted_regression=\"True\")\n",
    "\n",
    "pov_goodmans_er.fit(group_fraction = X_pov, \n",
    "    vote_fraction = Y_pov,\n",
    "    precinct_pops = precinct_pops, # Must include populations if weighting by population\n",
    "    demographic_group_name=demographic_group_name, \n",
    "    candidate_name=candidate_name\n",
    ")\n",
    "\n",
    "print(pov_goodmans_er.summary())"
   ]
  },
  {
   "cell_type": "code",
   "execution_count": null,
   "id": "0edc16d0-4d4e-4737-b7e9-877abe74107b",
   "metadata": {},
   "outputs": [
    {
     "name": "stderr",
     "output_type": "stream",
     "text": [
      "Auto-assigning NUTS sampler...\n",
      "Initializing NUTS using jitter+adapt_diag...\n",
      "/Users/karin/miniconda3/envs/police/lib/python3.11/site-packages/pymc/aesaraf.py:996: UserWarning: The parameter 'updates' of aesara.function() expects an OrderedDict, got <class 'dict'>. Using a standard dictionary here results in non-deterministic behavior. You should use an OrderedDict if you are using Python 2.7 (collections.OrderedDict for older python), or use a list of (shared, update) pairs. Do not just convert your dictionary to this type before the call as the conversion will still be non-deterministic.\n",
      "  aesara_function = aesara.function(\n",
      "Multiprocess sampling (4 chains in 4 jobs)\n",
      "NUTS: [b_1, b_2, eps]\n"
     ]
    },
    {
     "data": {
      "text/html": [
       "\n",
       "<style>\n",
       "    /* Turns off some styling */\n",
       "    progress {\n",
       "        /* gets rid of default border in Firefox and Opera. */\n",
       "        border: none;\n",
       "        /* Needs to be in here for Safari polyfill so background images work as expected. */\n",
       "        background-size: auto;\n",
       "    }\n",
       "    progress:not([value]), progress:not([value])::-webkit-progress-bar {\n",
       "        background: repeating-linear-gradient(45deg, #7e7e7e, #7e7e7e 10px, #5c5c5c 10px, #5c5c5c 20px);\n",
       "    }\n",
       "    .progress-bar-interrupted, .progress-bar-interrupted::-webkit-progress-bar {\n",
       "        background: #F44336;\n",
       "    }\n",
       "</style>\n"
      ],
      "text/plain": [
       "<IPython.core.display.HTML object>"
      ]
     },
     "metadata": {},
     "output_type": "display_data"
    },
    {
     "data": {
      "text/html": [
       "\n",
       "    <div>\n",
       "      <progress value='16000' class='' max='16000' style='width:300px; height:20px; vertical-align: middle;'></progress>\n",
       "      100.00% [16000/16000 00:04&lt;00:00 Sampling 4 chains, 0 divergences]\n",
       "    </div>\n",
       "    "
      ],
      "text/plain": [
       "<IPython.core.display.HTML object>"
      ]
     },
     "metadata": {},
     "output_type": "display_data"
    },
    {
     "name": "stderr",
     "output_type": "stream",
     "text": [
      "Sampling 4 chains for 2_000 tune and 2_000 draw iterations (8_000 + 8_000 draws total) took 10 seconds.\n"
     ]
    },
    {
     "name": "stdout",
     "output_type": "stream",
     "text": [
      "max rhat <xarray.Dataset>\n",
      "Dimensions:  ()\n",
      "Data variables:\n",
      "    b_1      float64 1.002\n",
      "    b_2      float64 1.001\n",
      "    eps      float64 1.001\n",
      "min ess <xarray.Dataset>\n",
      "Dimensions:  ()\n",
      "Data variables:\n",
      "    b_1      float64 1.744e+03\n",
      "    b_2      float64 1.888e+03\n",
      "    eps      float64 2.499e+03\n"
     ]
    }
   ],
   "source": [
    "bayes_goodman_ei_pov = pyei.GoodmansERBayes(\"goodman_er_bayes\", weighted_by_pop=True, sigma=1)\n",
    "\n",
    "bayes_goodman_ei_pov.fit(\n",
    "    group_fraction = X_pov, \n",
    "    votes_fraction = Y_pov,\n",
    "    precinct_pops = precinct_pops,\n",
    "    demographic_group_name=demographic_group_name, \n",
    "    candidate_name=candidate_name,\n",
    "    tune=2000,\n",
    "    target_accept=0.995, \n",
    "    random_seed=614,\n",
    ")\n",
    "\n",
    "bayes_goodman_ei_pov.summary()\n",
    "\n",
    "print(f'max rhat {(az.rhat(bayes_goodman_ei.sim_trace).max())}')\n",
    "print(f'min ess {az.ess(bayes_goodman_ei.sim_trace).max()}')"
   ]
  },
  {
   "cell_type": "code",
   "execution_count": null,
   "id": "a494d919-41f5-4e9d-950b-38e09f0df89f",
   "metadata": {},
   "outputs": [
    {
     "name": "stdout",
     "output_type": "stream",
     "text": [
      "[0.46, 1.26]\n",
      "[0.16 0.77]\n",
      "[0.03 3.2 ]\n",
      "\n",
      "[0.48, 1.04]\n",
      "[0.15 0.76]\n",
      "[0.   2.55]\n"
     ]
    },
    {
     "data": {
      "image/png": "[encoded data removed]",
      "text/plain": [
       "<Figure size 1500x500 with 2 Axes>"
      ]
     },
     "metadata": {},
     "output_type": "display_data"
    }
   ],
   "source": [
    "import matplotlib.pyplot as plt\n",
    "from scipy import stats\n",
    "\n",
    "COLOR_MAP = {\n",
    "    \"light_orange\": \"#E69F00\",\n",
    "    \"light_blue\": \"#56B4E9\",\n",
    "    \"teal\": \"#009E73\",\n",
    "    \"yellow\": \"#F0E442\",\n",
    "    \"dark_blue\": \"#0072B2\",\n",
    "    \"dark_orange\": \"#D55E00\",\n",
    "    \"pink\": \"#CC79A7\",\n",
    "    \"purple\": \"#9370DB\",\n",
    "    \"black\": \"#000000\",\n",
    "    \"silver\": \"#DCDCDC\",\n",
    "}\n",
    "names = list(ei_race.group_names_for_display())\n",
    "fig, ax = plt.subplots(1, 2, figsize = (15,5))\n",
    "\n",
    "# Race\n",
    "val_white = m_race * ei_race._voting_prefs_array()[:,0,0]\n",
    "val_nonwhite = m_race * ei_race._voting_prefs_array()[:,1,0]\n",
    "nonwhite_color = COLOR_MAP[\"dark_orange\"]\n",
    "white_color = \"seagreen\"\n",
    "conf_white = np.percentile(val_white, [2.5, 97.5])\n",
    "conf_nonwhite = np.percentile(val_nonwhite, [2.5, 97.5])\n",
    "print([np.around(m * m_race, decimals = 2) for m in ei_race.posterior_mean_voting_prefs])\n",
    "print(np.around(conf_white, decimals = 2))\n",
    "print(np.around(conf_nonwhite, decimals = 2))\n",
    "\n",
    "kde = stats.gaussian_kde(val_white)\n",
    "tt = np.linspace(0, val_white.max(), 100)\n",
    "#ax[0].hist(val_white, bins = 20, linewidth = 1, density = True, color = white_color, alpha = .4)\n",
    "x = tt\n",
    "y = kde(tt)\n",
    "#x = x[np.where(kde(tt) > 1e-08)[0]]\n",
    "#y = y[np.where(kde(tt) > 1e-08)[0]]\n",
    "ax[0].fill_between(x, y, linewidth = 3, label = \"White\", color = white_color)\n",
    "\n",
    "kde = stats.gaussian_kde(val_nonwhite)\n",
    "tt = np.linspace(0, val_nonwhite.max(), 100)\n",
    "#ax[0].hist(val_nonwhite, bins = 20, linewidth = 1, density = True,color = nonwhite_color, alpha = .4)\n",
    "\n",
    "x = tt\n",
    "y = kde(tt)\n",
    "x = x[np.where(kde(tt) > 1e-08)[0]]\n",
    "y = y[np.where(kde(tt) > 1e-08)[0]]\n",
    "ax[0].fill_between(tt, kde(tt), linewidth = 3, label = \"Non-White\", color = nonwhite_color)\n",
    "ax[0].set_xlabel(\"rate\",  fontsize = 15)\n",
    "ax[0].set_ylabel(\"density\",  fontsize = 15)\n",
    "ax[0].axvspan(conf_white[0],conf_white[1], color = white_color, alpha = .2, zorder =0)\n",
    "ax[0].axvspan(conf_nonwhite[0],conf_nonwhite[1], color = nonwhite_color, alpha = .2, zorder = 0)\n",
    "ax[0].legend(fontsize = 15)\n",
    "#ax[0].set_ylim(0,14)\n",
    "#ax[0].set_xlim(0,1)\n",
    "\n",
    "# Wealth\n",
    "val_wealth = m_pov * ei_pov._voting_prefs_array()[:,0,0]\n",
    "val_pov = m_pov * ei_pov._voting_prefs_array()[:,1,0]\n",
    "pov_color = COLOR_MAP[\"dark_orange\"]\n",
    "wealth_color = \"seagreen\"\n",
    "conf_pov = np.percentile(val_pov, [2.5, 97.5])\n",
    "conf_wealth = np.percentile(val_wealth, [2.5, 97.5])\n",
    "print(\"\")\n",
    "print([np.around(m * m_pov, decimals = 2) for m in ei_pov.posterior_mean_voting_prefs])\n",
    "print(np.around(conf_wealth, decimals = 2))\n",
    "print(np.around(conf_pov, decimals = 2))\n",
    "\n",
    "kde = stats.gaussian_kde(val_wealth)\n",
    "tt = np.linspace(0, val_wealth.max(), 100)\n",
    "#ax[1].hist(val_wealth, bins = 20, linewidth = 1, density = True,color = wealth_color, alpha = .4)\n",
    "\n",
    "x = tt\n",
    "y = kde(tt)\n",
    "x = x[np.where(kde(tt) > 1e-08)[0]]\n",
    "y = y[np.where(kde(tt) > 1e-08)[0]]\n",
    "ax[1].fill_between(x, y, linewidth = 3, label = \"Middle-High Income\", color = wealth_color)\n",
    "\n",
    "kde = stats.gaussian_kde(val_pov)\n",
    "tt = np.linspace(0, val_pov.max(), 100)\n",
    "#ax[1].hist(val_pov, bins = 20, linewidth = 2, density = True,color = pov_color, alpha = .4)\n",
    "\n",
    "x = tt\n",
    "y = kde(tt)\n",
    "x = x[np.where(kde(tt) > 1e-08)[0]]\n",
    "y = y[np.where(kde(tt) > 1e-08)[0]]\n",
    "ax[1].fill_between(tt, kde(tt), linewidth = 3, label = \"Low Income\", color = pov_color)\n",
    "ax[1].set_xlabel(\"rate\", fontsize = 15)\n",
    "ax[1].axvspan(conf_pov[0],conf_pov[1], color = pov_color, alpha = .2, zorder = 0)\n",
    "ax[1].axvspan(conf_wealth[0],conf_wealth[1], color = wealth_color, alpha = .2, zorder = 0)\n",
    "ax[1].legend(fontsize = 15)\n",
    "\n",
    "\n",
    "plt.suptitle(\"Rate of Log Calls for Service per Person\", fontsize = 18)\n",
    "plt.show()"
   ]
  },
  {
   "cell_type": "code",
   "execution_count": null,
   "id": "3a47049a",
   "metadata": {},
   "outputs": [],
   "source": [
    "from sklearn.metrics import r2_score"
   ]
  },
  {
   "cell_type": "code",
   "execution_count": null,
   "id": "36be74dd-5f9c-4258-8cff-319ccb3bea58",
   "metadata": {},
   "outputs": [
    {
     "name": "stdout",
     "output_type": "stream",
     "text": [
      "0.5509958070093299\n",
      "0.056002670318765935\n"
     ]
    },
    {
     "data": {
      "image/png": "[encoded data removed]",
      "text/plain": [
       "<Figure size 1000x300 with 2 Axes>"
      ]
     },
     "metadata": {},
     "output_type": "display_data"
    }
   ],
   "source": [
    "fig, ax = plt.subplots(1,2, figsize = (10,3), sharex = True, sharey = True)\n",
    "race_slope = m_race * race_goodmans_er.slope_\n",
    "race_intercept = m_race * race_goodmans_er.intercept_\n",
    "c_true = C/p\n",
    "c_fit_race = (race_slope * X_race + race_intercept)\n",
    "\n",
    "ax[0].scatter(X_race,c_true)\n",
    "\n",
    "print(r2_score(c_true, c_fit_race))\n",
    "ax[0].plot([0,1],[race_intercept, race_slope[0] + race_intercept])\n",
    "ax[0].set_ylabel(\"Call for Service Rate\", fontsize = 12)\n",
    "ax[0].set_xlabel(\"Percentage White\", fontsize = 12)\n",
    "\n",
    "pov_slope = m_pov * pov_goodmans_er.slope_\n",
    "pov_intercept = m_pov * pov_goodmans_er.intercept_\n",
    "c_fit_pov = pov_slope * X_pov + pov_intercept\n",
    "ax[1].scatter(X_pov, c_true)\n",
    "print(r2_score(c_true, c_fit_pov))\n",
    "ax[1].plot([0,1],[pov_intercept, pov_slope[0] + pov_intercept])\n",
    "ax[1].set_xlabel(\"Percentage Non Low Income\", fontsize = 12)\n",
    "plt.suptitle(\"Ecological Regression Results for Race and Income\", fontsize = 18)\n",
    "plt.show()"
   ]
  },
  {
   "cell_type": "code",
   "execution_count": null,
   "id": "00a0347c",
   "metadata": {},
   "outputs": [
    {
     "name": "stdout",
     "output_type": "stream",
     "text": [
      "-0.08862907271526654\n",
      "-77.27734957807998\n"
     ]
    },
    {
     "data": {
      "image/png": "[encoded data removed]",
      "text/plain": [
       "<Figure size 1000x300 with 2 Axes>"
      ]
     },
     "metadata": {},
     "output_type": "display_data"
    }
   ],
   "source": [
    "fig, ax = plt.subplots(1,2, figsize = (10,3), sharex = True, sharey = True)\n",
    "\n",
    "slope_samples = az.extract(bayes_goodman_ei.sim_trace)['b_1'].to_numpy() - az.extract(bayes_goodman_ei.sim_trace)['b_2'].to_numpy()\n",
    "intercept_samples = az.extract(bayes_goodman_ei.sim_trace)['b_2'].to_numpy()\n",
    "\n",
    "race_slope_b = m_race * slope_samples.mean()\n",
    "race_intercept_b = m_race * intercept_samples.mean()\n",
    "c_fit_race = (race_slope_b * X_race + race_intercept_b)\n",
    "\n",
    "ax[0].scatter(X_race,Y_race * m_race)\n",
    "print(r2_score(c_true, c_fit_race))\n",
    "ax[0].plot([0,1],[race_intercept_b, race_slope_b + race_intercept_b])\n",
    "ax[0].set_ylabel(\"Call for Service Rate\", fontsize = 12)\n",
    "ax[0].set_xlabel(\"Percentage White\", fontsize = 12)\n",
    "\n",
    "slope_samples_pov = az.extract(bayes_goodman_ei_pov.sim_trace)['b_1'].to_numpy() - az.extract(bayes_goodman_ei_pov.sim_trace)['b_2'].to_numpy()\n",
    "intercept_samples_pov = az.extract(bayes_goodman_ei_pov.sim_trace)['b_2'].to_numpy()\n",
    "\n",
    "pov_slope_b = m_pov * slope_samples_pov.mean()\n",
    "pov_intercept_b = m_pov * intercept_samples_pov.mean()\n",
    "c_fit_pov = (pov_slope_b * X_pov + pov_intercept_b)\n",
    "\n",
    "ax[1].scatter(X_pov,c_true)\n",
    "print(r2_score(c_fit_pov, c_true))\n",
    "ax[1].plot([0,1],[pov_intercept_b, pov_slope_b + pov_intercept_b])\n",
    "ax[1].set_xlabel(\"Percentage Non Low Income\", fontsize = 12)\n",
    "\n",
    "plt.suptitle(\"Bayesian Ecological Regression Results for Race and Income\", fontsize = 18)\n",
    "plt.show()"
   ]
  },
  {
   "cell_type": "code",
   "execution_count": null,
   "id": "934b37ef",
   "metadata": {},
   "outputs": [
    {
     "data": {
      "text/plain": [
       "0.43582363981662225"
      ]
     },
     "execution_count": 71,
     "metadata": {},
     "output_type": "execute_result"
    }
   ],
   "source": [
    "((1/len(c_true))*((c_fit_race - c_true) ** 2)).sum() ** (1/2)"
   ]
  },
  {
   "cell_type": "code",
   "execution_count": null,
   "id": "b0f704b1",
   "metadata": {},
   "outputs": [
    {
     "data": {
      "text/plain": [
       "0.43582363981662225"
      ]
     },
     "execution_count": 75,
     "metadata": {},
     "output_type": "execute_result"
    }
   ],
   "source": [
    "(((c_fit_race - c_true) ** 2).sum()/len(c_true)) ** (1/2)"
   ]
  },
  {
   "cell_type": "code",
   "execution_count": null,
   "id": "827a8cd6",
   "metadata": {},
   "outputs": [
    {
     "data": {
      "text/plain": [
       "0.6319329023153173"
      ]
     },
     "execution_count": 78,
     "metadata": {},
     "output_type": "execute_result"
    }
   ],
   "source": [
    "(((c_fit_pov - c_true) ** 2).sum()/len(c_true)) ** (1/2)"
   ]
  },
  {
   "cell_type": "code",
   "execution_count": null,
   "id": "06c9762a",
   "metadata": {},
   "outputs": [
    {
     "data": {
      "text/plain": [
       "[0.46, 1.12]"
      ]
     },
     "execution_count": 90,
     "metadata": {},
     "output_type": "execute_result"
    }
   ],
   "source": [
    "[np.around(m * m_pov, decimals = 2) for m in ei_pov.posterior_mean_voting_prefs]"
   ]
  },
  {
   "cell_type": "code",
   "execution_count": null,
   "id": "f0b774c6",
   "metadata": {},
   "outputs": [
    {
     "data": {
      "text/plain": [
       "-2.4485065807233606"
      ]
     },
     "execution_count": 53,
     "metadata": {},
     "output_type": "execute_result"
    }
   ],
   "source": [
    "race_intercept"
   ]
  },
  {
   "attachments": {},
   "cell_type": "markdown",
   "id": "a799b585",
   "metadata": {},
   "source": [
    "## Linear Regression Analysis with Confidence Intervals"
   ]
  },
  {
   "cell_type": "code",
   "execution_count": null,
   "id": "d4d0bc4b",
   "metadata": {},
   "outputs": [],
   "source": [
    "from sklearn.linear_model import LinearRegression"
   ]
  },
  {
   "cell_type": "code",
   "execution_count": null,
   "id": "816054de",
   "metadata": {},
   "outputs": [
    {
     "data": {
      "text/html": [
       "<div>\n",
       "<style scoped>\n",
       "    .dataframe tbody tr th:only-of-type {\n",
       "        vertical-align: middle;\n",
       "    }\n",
       "\n",
       "    .dataframe tbody tr th {\n",
       "        vertical-align: top;\n",
       "    }\n",
       "\n",
       "    .dataframe thead th {\n",
       "        text-align: right;\n",
       "    }\n",
       "</style>\n",
       "<table border=\"1\" class=\"dataframe\">\n",
       "  <thead>\n",
       "    <tr style=\"text-align: right;\">\n",
       "      <th></th>\n",
       "      <th>lower</th>\n",
       "      <th>upper</th>\n",
       "    </tr>\n",
       "  </thead>\n",
       "  <tbody>\n",
       "    <tr>\n",
       "      <th>const</th>\n",
       "      <td>-6.396506</td>\n",
       "      <td>1.499493</td>\n",
       "    </tr>\n",
       "    <tr>\n",
       "      <th>Percentage white</th>\n",
       "      <td>-0.920438</td>\n",
       "      <td>8.604757</td>\n",
       "    </tr>\n",
       "  </tbody>\n",
       "</table>\n",
       "</div>"
      ],
      "text/plain": [
       "                     lower     upper\n",
       "const            -6.396506  1.499493\n",
       "Percentage white -0.920438  8.604757"
      ]
     },
     "metadata": {},
     "output_type": "display_data"
    }
   ],
   "source": [
    "alpha = 0.05 # for 95% confidence interval; use 0.01 for 99%-CI.\n",
    "\n",
    "X = pd.DataFrame(df_race[\"Percentage white\"])\n",
    "y = df_race[\"Call for service rate\"]\n",
    "\n",
    "# fit a sklearn LinearRegression model\n",
    "lin_model = LinearRegression().fit(X, y, sample_weight = precinct_pops)\n",
    "\n",
    "# the coefficients of the regression model\n",
    "coefs = np.r_[[lin_model.intercept_], lin_model.coef_]\n",
    "# build an auxiliary dataframe with the constant term in it\n",
    "X_aux = X.copy()\n",
    "X_aux.insert(0, 'const', 1)\n",
    "\n",
    "# degrees of freedom\n",
    "dof = -np.diff(X_aux.shape)[0]\n",
    "# Student's t-distribution table lookup\n",
    "t_val = stats.t.isf(alpha/2, dof)\n",
    "\n",
    "# MSE of the residuals\n",
    "mse = np.sum((y - lin_model.predict(X)) ** 2) / dof\n",
    "\n",
    "# inverse of the variance of the parameters\n",
    "var_params = np.diag(np.linalg.inv(X_aux.T.dot(X_aux)))\n",
    "\n",
    "# distance between lower and upper bound of CI\n",
    "gap = t_val * np.sqrt(mse * var_params)\n",
    "\n",
    "conf_int = pd.DataFrame({'lower': coefs - gap, 'upper': coefs + gap}, index=X_aux.columns) * m_race\n",
    "display(conf_int)"
   ]
  },
  {
   "cell_type": "code",
   "execution_count": null,
   "id": "b7cc7fb3",
   "metadata": {},
   "outputs": [
    {
     "data": {
      "text/html": [
       "<div>\n",
       "<style scoped>\n",
       "    .dataframe tbody tr th:only-of-type {\n",
       "        vertical-align: middle;\n",
       "    }\n",
       "\n",
       "    .dataframe tbody tr th {\n",
       "        vertical-align: top;\n",
       "    }\n",
       "\n",
       "    .dataframe thead th {\n",
       "        text-align: right;\n",
       "    }\n",
       "</style>\n",
       "<table border=\"1\" class=\"dataframe\">\n",
       "  <thead>\n",
       "    <tr style=\"text-align: right;\">\n",
       "      <th></th>\n",
       "      <th>value</th>\n",
       "      <th>lower</th>\n",
       "      <th>upper</th>\n",
       "    </tr>\n",
       "  </thead>\n",
       "  <tbody>\n",
       "    <tr>\n",
       "      <th>r_0</th>\n",
       "      <td>-2.448507</td>\n",
       "      <td>-6.396506</td>\n",
       "      <td>1.499493</td>\n",
       "    </tr>\n",
       "    <tr>\n",
       "      <th>r_g</th>\n",
       "      <td>1.393653</td>\n",
       "      <td>-7.316944</td>\n",
       "      <td>10.104250</td>\n",
       "    </tr>\n",
       "    <tr>\n",
       "      <th>slope</th>\n",
       "      <td>3.842159</td>\n",
       "      <td>-0.920438</td>\n",
       "      <td>8.604757</td>\n",
       "    </tr>\n",
       "  </tbody>\n",
       "</table>\n",
       "</div>"
      ],
      "text/plain": [
       "          value     lower      upper\n",
       "r_0   -2.448507 -6.396506   1.499493\n",
       "r_g    1.393653 -7.316944  10.104250\n",
       "slope  3.842159 -0.920438   8.604757"
      ]
     },
     "execution_count": 48,
     "metadata": {},
     "output_type": "execute_result"
    }
   ],
   "source": [
    "r_0 = (coefs * m_race)[0]\n",
    "r_g = (coefs * m_race)[1] + r_0\n",
    "\n",
    "conf_race = pd.DataFrame(index = [\"r_0\",\"r_g\", \"slope\"])\n",
    "conf_race.loc[\"r_0\",\"value\"] = r_0 \n",
    "conf_race.loc[\"r_g\",\"value\"] = r_g \n",
    "conf_race.loc[\"slope\",\"value\"] = r_g - r_0 \n",
    "\n",
    "conf_race.loc[\"r_0\",\"lower\"] = conf_int.loc[\"const\",\"lower\"]\n",
    "conf_race.loc[\"r_0\",\"upper\"] = conf_int.loc[\"const\",\"upper\"]\n",
    "conf_race.loc[\"slope\",\"lower\"] = conf_int.loc[\"Percentage white\",\"lower\"]\n",
    "conf_race.loc[\"slope\",\"upper\"] = conf_int.loc[\"Percentage white\",\"upper\"]\n",
    "conf_race.loc[\"r_g\",\"lower\"] = conf_race.loc[\"slope\",\"lower\"] + conf_race.loc[\"r_0\",\"lower\"]\n",
    "conf_race.loc[\"r_g\",\"upper\"] = conf_race.loc[\"slope\",\"upper\"] + conf_race.loc[\"r_0\",\"upper\"]\n",
    "conf_race"
   ]
  },
  {
   "cell_type": "code",
   "execution_count": null,
   "id": "38f883ee",
   "metadata": {},
   "outputs": [
    {
     "data": {
      "text/html": [
       "<div>\n",
       "<style scoped>\n",
       "    .dataframe tbody tr th:only-of-type {\n",
       "        vertical-align: middle;\n",
       "    }\n",
       "\n",
       "    .dataframe tbody tr th {\n",
       "        vertical-align: top;\n",
       "    }\n",
       "\n",
       "    .dataframe thead th {\n",
       "        text-align: right;\n",
       "    }\n",
       "</style>\n",
       "<table border=\"1\" class=\"dataframe\">\n",
       "  <thead>\n",
       "    <tr style=\"text-align: right;\">\n",
       "      <th></th>\n",
       "      <th>lower</th>\n",
       "      <th>upper</th>\n",
       "    </tr>\n",
       "  </thead>\n",
       "  <tbody>\n",
       "    <tr>\n",
       "      <th>const</th>\n",
       "      <td>-6.826593</td>\n",
       "      <td>6.15479</td>\n",
       "    </tr>\n",
       "    <tr>\n",
       "      <th>Percentage non low income</th>\n",
       "      <td>-6.936971</td>\n",
       "      <td>9.23632</td>\n",
       "    </tr>\n",
       "  </tbody>\n",
       "</table>\n",
       "</div>"
      ],
      "text/plain": [
       "                              lower    upper\n",
       "const                     -6.826593  6.15479\n",
       "Percentage non low income -6.936971  9.23632"
      ]
     },
     "execution_count": 49,
     "metadata": {},
     "output_type": "execute_result"
    }
   ],
   "source": [
    "alpha = 0.05 # for 95% confidence interval; use 0.01 for 99%-CI.\n",
    "\n",
    "X = pd.DataFrame(df_pov[\"Percentage non low income\"])\n",
    "y = df_pov[\"Call for service rate\"]\n",
    "\n",
    "# fit a sklearn LinearRegression model\n",
    "lin_model = LinearRegression().fit(X, y, sample_weight = precinct_pops)\n",
    "\n",
    "# the coefficients of the regression model\n",
    "coefs = np.r_[[lin_model.intercept_], lin_model.coef_]\n",
    "# build an auxiliary dataframe with the constant term in it\n",
    "X_aux = X.copy()\n",
    "X_aux.insert(0, 'const', 1)\n",
    "\n",
    "# degrees of freedom\n",
    "dof = -np.diff(X_aux.shape)[0]\n",
    "# Student's t-distribution table lookup\n",
    "t_val = stats.t.isf(alpha/2, dof)\n",
    "\n",
    "# MSE of the residuals\n",
    "mse = np.sum((y - lin_model.predict(X)) ** 2) / dof\n",
    "\n",
    "# inverse of the variance of the parameters\n",
    "var_params = np.diag(np.linalg.inv(X_aux.T.dot(X_aux)))\n",
    "\n",
    "# distance between lower and upper bound of CI\n",
    "gap = t_val * np.sqrt(mse * var_params)\n",
    "\n",
    "conf_int = pd.DataFrame({'lower': coefs - gap, 'upper': coefs + gap}, index=X_aux.columns) * m_pov\n",
    "conf_int"
   ]
  },
  {
   "cell_type": "code",
   "execution_count": null,
   "id": "9a0e2f71",
   "metadata": {},
   "outputs": [
    {
     "data": {
      "text/html": [
       "<div>\n",
       "<style scoped>\n",
       "    .dataframe tbody tr th:only-of-type {\n",
       "        vertical-align: middle;\n",
       "    }\n",
       "\n",
       "    .dataframe tbody tr th {\n",
       "        vertical-align: top;\n",
       "    }\n",
       "\n",
       "    .dataframe thead th {\n",
       "        text-align: right;\n",
       "    }\n",
       "</style>\n",
       "<table border=\"1\" class=\"dataframe\">\n",
       "  <thead>\n",
       "    <tr style=\"text-align: right;\">\n",
       "      <th></th>\n",
       "      <th>value</th>\n",
       "      <th>lower</th>\n",
       "      <th>upper</th>\n",
       "    </tr>\n",
       "  </thead>\n",
       "  <tbody>\n",
       "    <tr>\n",
       "      <th>r_0</th>\n",
       "      <td>-0.335902</td>\n",
       "      <td>-6.826593</td>\n",
       "      <td>6.15479</td>\n",
       "    </tr>\n",
       "    <tr>\n",
       "      <th>r_g</th>\n",
       "      <td>0.813773</td>\n",
       "      <td>-13.763564</td>\n",
       "      <td>15.39111</td>\n",
       "    </tr>\n",
       "    <tr>\n",
       "      <th>slope</th>\n",
       "      <td>1.149675</td>\n",
       "      <td>-6.936971</td>\n",
       "      <td>9.23632</td>\n",
       "    </tr>\n",
       "  </tbody>\n",
       "</table>\n",
       "</div>"
      ],
      "text/plain": [
       "          value      lower     upper\n",
       "r_0   -0.335902  -6.826593   6.15479\n",
       "r_g    0.813773 -13.763564  15.39111\n",
       "slope  1.149675  -6.936971   9.23632"
      ]
     },
     "execution_count": 50,
     "metadata": {},
     "output_type": "execute_result"
    }
   ],
   "source": [
    "r_0 = (coefs * m_pov)[0]\n",
    "r_g = (coefs * m_pov)[1] + r_0\n",
    "\n",
    "conf_race = pd.DataFrame(index = [\"r_0\",\"r_g\", \"slope\"])\n",
    "conf_race.loc[\"r_0\",\"value\"] = r_0 \n",
    "conf_race.loc[\"r_g\",\"value\"] = r_g \n",
    "conf_race.loc[\"slope\",\"value\"] = r_g - r_0 \n",
    "\n",
    "conf_race.loc[\"r_0\",\"lower\"] = conf_int.loc[\"const\",\"lower\"]\n",
    "conf_race.loc[\"r_0\",\"upper\"] = conf_int.loc[\"const\",\"upper\"]\n",
    "conf_race.loc[\"slope\",\"lower\"] = conf_int.loc[\"Percentage non low income\",\"lower\"]\n",
    "conf_race.loc[\"slope\",\"upper\"] = conf_int.loc[\"Percentage non low income\",\"upper\"]\n",
    "conf_race.loc[\"r_g\",\"lower\"] = conf_race.loc[\"slope\",\"lower\"] + conf_race.loc[\"r_0\",\"lower\"]\n",
    "conf_race.loc[\"r_g\",\"upper\"] = conf_race.loc[\"slope\",\"upper\"] + conf_race.loc[\"r_0\",\"upper\"]\n",
    "conf_race"
   ]
  },
  {
   "cell_type": "code",
   "execution_count": null,
   "id": "b1b70429",
   "metadata": {},
   "outputs": [],
   "source": [
    "y = df_race[\"Call for service rate\"]"
   ]
  },
  {
   "cell_type": "code",
   "execution_count": null,
   "id": "2965c853",
   "metadata": {},
   "outputs": [],
   "source": [
    "mean_precinct_pop = precinct_pops.mean()\n",
    "with pm.Model() as bayes_er_model:\n",
    "    b_1 = pm.Uniform(\"b_1\", 0, 10)\n",
    "    b_2 = pm.Uniform(\"b_2\", 0, 10)\n",
    "\n",
    "    eps = pm.HalfNormal(\"eps\", sigma=sigma)\n",
    "\n",
    "    pm.Normal(\n",
    "        \"votes_count_obs\",\n",
    "        b_2 + (b_1 - b_2) * group_fraction,\n",
    "        sigma=eps * pm.math.sqrt(mean_precinct_pop / precinct_pops),\n",
    "        observed=votes_fraction,\n",
    "    )\n",
    "\n",
    "return bayes_er_model"
   ]
  }
 ],
 "metadata": {
  "kernelspec": {
   "display_name": "Python 3 (ipykernel)",
   "language": "python",
   "name": "python3"
  },
  "language_info": {
   "codemirror_mode": {
    "name": "ipython",
    "version": 3
   },
   "file_extension": ".py",
   "mimetype": "text/x-python",
   "name": "python",
   "nbconvert_exporter": "python",
   "pygments_lexer": "ipython3",
   "version": "3.11.4"
  }
 },
 "nbformat": 4,
 "nbformat_minor": 5
}
